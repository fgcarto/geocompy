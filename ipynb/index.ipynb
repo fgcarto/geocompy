{
  "cells": [
    {
      "cell_type": "markdown",
      "metadata": {},
      "source": [
        "---\n",
        "description-meta: |\n",
        "  This book will teach you how to work with geographic data in Python.\n",
        "  It's a short and practical open source book in which you'll\n",
        "  develop and use geocomputation to solve practical\n",
        "  problems and lay the foundations for advanced geospatial applications.\n",
        "---\n",
        "\n",
        "::: {.content-visible when-format=\"html\"}\n",
        "\n",
        "# Welcome {.unnumbered}\n",
        "\n",
        "This is the online home of *Geocomputation with Python*, a book on reproducible geographic data analysis with open source software.\n",
        "\n",
        "Inspired by the Free and Open Source Software for Geospatial ([FOSS4G](https://foss4g.org/)) movement this is an *open source book*.\n",
        "Find the code underlying the *geocompy* project on [GitHub](https://github.com/geocompx/geocompy), ensuring that the content is reproducible, transparent, and accessible.\n",
        "Making the book open source allows you or anyone else, to interact with the project by opening [issues](https://github.com/geocompx/geocompy/issues), making typo fixes and more, for the benefit of everyone.\n",
        "\n",
        "The book's website is built by GitHub Actions, which runs the code every time we make a change, ensuring code correctness and reproducibility.\n",
        "The current build status as follows:\n",
        "\n",
        "[![](https://github.com/geocompx/geocompy/actions/workflows/main.yaml/badge.svg)](https://github.com/geocompx/geocompy/actions/workflows/main.yaml)\n",
        "\n",
        "You can run the code in the book using GitHub CodeSpaces as follows (requires a GitHub account):\n",
        "\n",
        "[![](https://github.com/codespaces/badge.svg)](https://github.com/codespaces/new?hide_repo_select=true&ref=main&repo=447558863)\n",
        "\n",
        "For details on reproducing the book, see the README in the project's GitHub repo: <https://github.com/geocompx/geocompy>.\n",
        "\n",
        ":::\n"
      ]
    }
  ],
  "metadata": {
    "kernelspec": {
      "display_name": "Python 3",
      "language": "python",
      "name": "python3"
    }
  },
  "nbformat": 4,
  "nbformat_minor": 4
}