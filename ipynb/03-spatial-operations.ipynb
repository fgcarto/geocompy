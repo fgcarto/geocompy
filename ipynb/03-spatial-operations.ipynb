{
  "cells": [
    {
      "cell_type": "markdown",
      "metadata": {},
      "source": [
        "---\n",
        "jupyter: python3\n",
        "---\n",
        "\n",
        "# Spatial data operations {#sec-spatial-operations}\n",
        "\n",
        "## Prerequisites {.unnumbered}"
      ]
    },
    {
      "cell_type": "code",
      "metadata": {},
      "source": [
        "#| echo: false\n",
        "import book_options"
      ],
      "execution_count": null,
      "outputs": []
    },
    {
      "cell_type": "code",
      "metadata": {},
      "source": [
        "#| echo: false\n",
        "import book_options_pdf"
      ],
      "execution_count": null,
      "outputs": []
    },
    {
      "cell_type": "markdown",
      "metadata": {},
      "source": [
        "This chapter requires importing the following packages:"
      ]
    },
    {
      "cell_type": "code",
      "metadata": {},
      "source": [
        "import os\n",
        "import numpy as np\n",
        "import matplotlib.pyplot as plt\n",
        "import pandas as pd\n",
        "import scipy.ndimage\n",
        "import scipy.stats\n",
        "import shapely\n",
        "import geopandas as gpd\n",
        "import rasterio\n",
        "import rasterio.plot\n",
        "import rasterio.merge\n",
        "import rasterio.features"
      ],
      "execution_count": null,
      "outputs": []
    },
    {
      "cell_type": "markdown",
      "metadata": {},
      "source": [
        "It also relies on the following data files: "
      ]
    },
    {
      "cell_type": "code",
      "metadata": {},
      "source": [
        "#| echo: false\n",
        "from pathlib import Path\n",
        "data_path = Path('data')\n",
        "file_path = Path('data/landsat.tif')\n",
        "if not file_path.exists():\n",
        "  if not data_path.is_dir():\n",
        "     os.mkdir(data_path)\n",
        "  print('Attempting to get the data')\n",
        "  import requests\n",
        "  r = requests.get('https://github.com/geocompx/geocompy/releases/download/0.1/landsat.tif')  \n",
        "  with open(file_path, 'wb') as f:\n",
        "    f.write(r.content)"
      ],
      "execution_count": null,
      "outputs": []
    },
    {
      "cell_type": "code",
      "metadata": {},
      "source": [
        "nz = gpd.read_file('data/nz.gpkg')\n",
        "nz_height = gpd.read_file('data/nz_height.gpkg')\n",
        "world = gpd.read_file('data/world.gpkg')\n",
        "cycle_hire = gpd.read_file('data/cycle_hire.gpkg')\n",
        "cycle_hire_osm = gpd.read_file('data/cycle_hire_osm.gpkg')\n",
        "src_elev = rasterio.open('output/elev.tif')\n",
        "src_landsat = rasterio.open('data/landsat.tif')\n",
        "src_grain = rasterio.open('output/grain.tif')"
      ],
      "execution_count": null,
      "outputs": []
    },
    {
      "cell_type": "markdown",
      "metadata": {},
      "source": [
        "## Introduction\n",
        "\n",
        "Spatial operations, including spatial joins between vector datasets and local and focal operations on raster datasets, are a vital part of geocomputation. \n",
        "This chapter shows how spatial objects can be modified in a multitude of ways based on their location and shape. Many spatial operations have a non-spatial (attribute) equivalent, so concepts such as subsetting and joining datasets demonstrated in the previous chapter are applicable here.\n",
        "This is especially true for vector operations: @sec-vector-attribute-manipulation on vector attribute manipulation provides the basis for understanding its spatial counterpart, namely spatial subsetting (covered in @sec-spatial-subsetting-vector). \n",
        "Spatial joining (@sec-spatial-joining) and aggregation (@sec-vector-spatial-aggregation) also have non-spatial counterparts, covered in the previous chapter.\n",
        "\n",
        "Spatial operations differ from non-spatial operations in a number of ways, however. \n",
        "Spatial joins, for example, can be done in a number of ways---including matching entities that intersect with or are within a certain distance of the target dataset---while the attribution joins discussed in @sec-vector-attribute-joining in the previous chapter can only be done in one way.\n",
        "Different types of spatial relationships between objects, including intersects and disjoints, are described in @sec-topological-relations.\n",
        "Another unique aspect of spatial objects is distance: all spatial objects are related through space, and distance calculations can be used to explore the strength of this relationship, as described in the context of vector data in @sec-distance-relations.\n",
        "\n",
        "Spatial operations on raster objects include subsetting---covered in @sec-spatial-subsetting-raster---and merging several raster 'tiles' into a single object, as demonstrated in @sec-merging-rasters.\n",
        "Map algebra covers a range of operations that modify raster cell values, with or without reference to surrounding cell values.\n",
        "The concept of map algebra, vital for many applications, is introduced in @sec-map-algebra; local, focal, and zonal map algebra operations are covered in sections @sec-raster-local-operations, @sec-focal-operations, and @sec-zonal-operations, respectively. \n",
        "Global map algebra operations, which generate summary statistics representing an entire raster dataset, and distance calculations on rasters, are discussed in Section @sec-global-operations-and-distances.\n",
        "\n",
        "::: callout-note\n",
        "It is important to note that spatial operations that use two spatial objects rely on both objects having the same coordinate reference system, a topic that was introduced in @sec-coordinate-reference-systems-intro and which will be covered in more depth in @sec-reproj-geo-data. \n",
        ":::\n",
        "\n",
        "## Spatial operations on vector data {#sec-spatial-vec}\n",
        "\n",
        "This section provides an overview of spatial operations on vector geographic data represented as Simple Features using the **shapely** and **geopandas** \n",
        "packages. \n",
        "@sec-spatial-ras then presents spatial operations on raster datasets, using the **rasterio** and **scipy** packages.\n",
        "\n",
        "### Spatial subsetting {#sec-spatial-subsetting-vector}\n",
        "\n",
        "<!-- jn: have we considered switching the order of spatial subsetting with topological relations? -->\n",
        "<!-- md: I don't think we considered it yet (the order as the moment is the same as in 'geocompr') -->\n",
        "\n",
        "Spatial subsetting is the process of taking a spatial object and returning a new object containing only features that relate in space to another object.\n",
        "Analogous to attribute subsetting (covered in @sec-vector-attribute-subsetting), subsets of `GeoDataFrame`s can be created with square bracket (`[`) operator using the syntax `x[y]`, where `x` is an `GeoDataFrame` from which a subset of rows/features will be returned, and `y` is a boolean `Series`.\n",
        "The difference is, that, in spatial subsetting `y` is created based on another geometry and using one of the binary geometry relation methods, such as `.intersects` (see @sec-topological-relations), rather than based on comparison based on ordinary columns.\n",
        "\n",
        "To demonstrate spatial subsetting, we will use the `nz` and `nz_height` layers, which contain geographic data on the 16 main regions and 101 highest points in New Zealand, respectively (@fig-spatial-subset (a)), in a projected coordinate system.\n",
        "The following expression creates a new object, `canterbury`, representing only one region --- Canterbury."
      ]
    },
    {
      "cell_type": "code",
      "metadata": {},
      "source": [
        "canterbury = nz[nz['Name'] == 'Canterbury']\n",
        "canterbury"
      ],
      "execution_count": null,
      "outputs": []
    },
    {
      "cell_type": "markdown",
      "metadata": {},
      "source": [
        "Then, we use the `.intersects` method to evaluate, for each of the `nz_height` points, whether they intersect with Canterbury.\n",
        "The result `canterbury_height` is a boolean `Series` with the 'answers'."
      ]
    },
    {
      "cell_type": "code",
      "metadata": {},
      "source": [
        "sel = nz_height.intersects(canterbury.geometry.iloc[0])\n",
        "sel"
      ],
      "execution_count": null,
      "outputs": []
    },
    {
      "cell_type": "markdown",
      "metadata": {},
      "source": [
        "Finally, we can subset `nz_height` using the obtained `Series`, resulting in the subset `canterbury_height` with only those points that intersect with Canterbury."
      ]
    },
    {
      "cell_type": "code",
      "metadata": {},
      "source": [
        "canterbury_height = nz_height[sel]\n",
        "canterbury_height"
      ],
      "execution_count": null,
      "outputs": []
    },
    {
      "cell_type": "markdown",
      "metadata": {},
      "source": [
        "@fig-spatial-subset compares the original `nz_height` layer (left) with the subset `canterbury_height` (right).\n",
        "<!-- jn: do we need to repeat the `base = nz.plot(color='white', edgecolor='lightgrey')` code here? -->\n",
        "<!-- md: The expression to create 'base' has to be repeated. can't say I completely understand the mechanism, but I think that once a 'matplotlib' plot is drawn, the plot objects are emptied, so we have to re-create them when making a new plot. maybe there is a solution to it that I missed, but currently we're creating each plot intependently like in the code below. -->"
      ]
    },
    {
      "cell_type": "code",
      "metadata": {},
      "source": [
        "#| label: fig-spatial-subset\n",
        "#| fig-cap: Spatial subsetting of points by intersection with polygon\n",
        "#| fig-subcap: \n",
        "#| - Original points (red)\n",
        "#| - Spatial subset based on intersection (red), geometry used for subsetting (Canterbury) (grey)\n",
        "#| layout-ncol: 2\n",
        "# Original\n",
        "base = nz.plot(color='white', edgecolor='lightgrey')\n",
        "nz_height.plot(ax=base, color='None', edgecolor='red');\n",
        "# Subset (intersects)\n",
        "base = nz.plot(color='white', edgecolor='lightgrey')\n",
        "canterbury.plot(ax=base, color='lightgrey', edgecolor='darkgrey')\n",
        "canterbury_height.plot(ax=base, color='None', edgecolor='red');"
      ],
      "execution_count": null,
      "outputs": []
    },
    {
      "cell_type": "markdown",
      "metadata": {},
      "source": [
        "Like in attribute subsetting (@sec-vector-attribute-subsetting), we are using a boolean series (`sel`), of the same length as the number of rows in the filtered table (`nz_height`), created based on a condition applied on itself.\n",
        "The difference is that the condition is not a comparison of attribute values, but an evaluation of a spatial relation.\n",
        "Namely, we evaluate whether each geometry of `nz_height` intersects with the `canterbury` geometry, using the `.intersects` method.\n",
        "\n",
        "Various topological relations can be used for spatial subsetting which determine the type of spatial relationship that features in the target object must have with the subsetting object to be selected.\n",
        "These include touches, crosses, or within, as we will see shortly in @sec-topological-relations.\n",
        "Intersects (`.intersects`), which we used in the last example, is the most commonly used method.\n",
        "This is a 'catch all' topological relation, that will return features in the target that touch, cross or are within the source 'subsetting' object.\n",
        "As an example of another method, we can use `.disjoint` to obtain all points that *do not* intersect with Canterbury."
      ]
    },
    {
      "cell_type": "code",
      "metadata": {},
      "source": [
        "sel = nz_height.disjoint(canterbury.geometry.iloc[0])\n",
        "canterbury_height2 = nz_height[sel]"
      ],
      "execution_count": null,
      "outputs": []
    },
    {
      "cell_type": "markdown",
      "metadata": {},
      "source": [
        "The results are shown in @fig-spatial-subset-disjoint, which compares the original `nz_height` layer (left) with the subset `canterbury_height2` (right)."
      ]
    },
    {
      "cell_type": "code",
      "metadata": {},
      "source": [
        "#| label: fig-spatial-subset-disjoint\n",
        "#| fig-cap: Spatial subsetting of points disjoint from a polygon\n",
        "#| fig-subcap: \n",
        "#| - Original points (red)\n",
        "#| - Spatial subset based on disjoint (red), geometry used for subsetting (Canterbury) (grey)\n",
        "#| layout-ncol: 2\n",
        "# Original\n",
        "base = nz.plot(color='white', edgecolor='lightgrey')\n",
        "nz_height.plot(ax=base, color='None', edgecolor='red');\n",
        "# Subset (disjoint)\n",
        "base = nz.plot(color='white', edgecolor='lightgrey')\n",
        "canterbury.plot(ax=base, color='lightgrey', edgecolor='darkgrey')\n",
        "canterbury_height2.plot(ax=base, color='None', edgecolor='red');"
      ],
      "execution_count": null,
      "outputs": []
    },
    {
      "cell_type": "markdown",
      "metadata": {},
      "source": [
        "In case we need to subset according to several geometries at once, e.g., find out which points intersect with both Canterbury and Southland, we can dissolve the filtering subset, using `.union_all`, before applying the `.intersects` (or any other) operator.\n",
        "For example, here is how we can subset the `nz_height` points which intersect with Canterbury or Southland.\n",
        "(Note that we are also using the `.isin` method, as demonstrated at the end of @sec-vector-attribute-subsetting.)"
      ]
    },
    {
      "cell_type": "code",
      "metadata": {},
      "source": [
        "canterbury_southland = nz[nz['Name'].isin(['Canterbury', 'Southland'])]\n",
        "sel = nz_height.intersects(canterbury_southland.union_all())\n",
        "canterbury_southland_height = nz_height[sel]\n",
        "canterbury_southland_height"
      ],
      "execution_count": null,
      "outputs": []
    },
    {
      "cell_type": "markdown",
      "metadata": {},
      "source": [
        "@fig-spatial-subset2 shows the results of the spatial subsetting of `nz_height` points by intersection with Canterbury and Southland."
      ]
    },
    {
      "cell_type": "code",
      "metadata": {},
      "source": [
        "#| label: fig-spatial-subset2\n",
        "#| fig-cap: Spatial subsetting of points by intersection with more than one polygon\n",
        "#| fig-subcap: \n",
        "#| - Original points (red)\n",
        "#| - Spatial subset based on intersection (red), geometry used for subsetting (Canterbury and Southland) (grey)\n",
        "#| layout-ncol: 2\n",
        "# Original\n",
        "base = nz.plot(color='white', edgecolor='lightgrey')\n",
        "nz_height.plot(ax=base, color='None', edgecolor='red');\n",
        "# Subset by intersection with two polygons\n",
        "base = nz.plot(color='white', edgecolor='lightgrey')\n",
        "canterbury_southland.plot(ax=base, color='lightgrey', edgecolor='darkgrey')\n",
        "canterbury_southland_height.plot(ax=base, color='None', edgecolor='red');"
      ],
      "execution_count": null,
      "outputs": []
    },
    {
      "cell_type": "markdown",
      "metadata": {},
      "source": [
        "The next section further explores different types of spatial relations, also known as binary predicates (of which `.intersects` and `.disjoint` are two examples), that can be used to identify whether or not two features are spatially related.\n",
        "\n",
        "### Topological relations {#sec-topological-relations}\n",
        "\n",
        "Topological relations describe the spatial relationships between objects.\n",
        "'Binary topological relationships', to give them their full name, are logical statements (in that the answer can only be `True` or `False`) about the spatial relationships between two objects defined by ordered sets of points (typically forming points, lines, and polygons) in two or more dimensions [@egenhofer_mathematical_1990].\n",
        "That may sound rather abstract and, indeed, the definition and classification of topological relations is based on mathematical foundations first published in book form in 1966 [@spanier_algebraic_1995], with the field of algebraic topology continuing into the 21st century [@dieck_algebraic_2008].\n",
        "\n",
        "Despite their mathematical origins, topological relations can be understood intuitively with reference to visualizations of commonly used functions that test for common types of spatial relationships.\n",
        "@fig-spatial-relations shows a variety of geometry pairs and their associated relations.\n",
        "The third and fourth pairs in @fig-spatial-relations (from left to right and then down) demonstrate that, for some relations, order is important: while the relations equals, intersects, crosses, touches and overlaps are symmetrical, meaning that if `x.relation(y)` is true, `y.relation(x)` will also be true, relations in which the order of the geometries are important such as contains and within are not.\n",
        "\n",
        "::: callout-note\n",
        "Notice that each geometry pair has a 'DE-9IM'[^de-9im] string such as `FF2F11212`.\n",
        "DE-9IM strings describe the dimensionality (0=points, 1=lines, 2=polygons) of the pairwise intersections of the interior, boundary, and exterior, of two geometries (i.e., nine values of 0/1/2 encoded into a string).\n",
        "This is an advanced topic beyond the scope of this book, which can be useful to understand the difference between relation types, or define custom types of relations.\n",
        "See the DE-9IM strings section in Geocomputation with R [@lovelace_geocomputation_2019]. \n",
        "Also note that the **shapely** package contains the `.relate` and `.relate_pattern` methods, to derive and to test for DE-9IM patterns, respectively.\n",
        ":::\n",
        "\n",
        "[^de-9im]: [https://en.wikipedia.org/wiki/DE-9IM](https://en.wikipedia.org/wiki/DE-9IM)\n",
        "\n",
        "![Topological relations between vector geometries, inspired by Figures 1 and 2 in [@egenhofer_mathematical_1990]. The relations for which the `x.relation(y)` is true are printed for each geometry pair, with `x` represented in pink and `y` represented in blue. The nature of the spatial relationship for each pair is described by the Dimensionally Extended 9-Intersection Model string.](images/relations-1.png){#fig-spatial-relations}\n",
        "\n",
        "In **shapely**, methods testing for different types of topological relations are known as 'relationships'.\n",
        "**geopandas** provides their wrappers (with the same method name) which can be applied on multiple geometries at once (such as `.intersects` and `.disjoint` applied on all points in `nz_height`, see @sec-spatial-subsetting-vector).\n",
        "To see how topological relations work in practice, let's create a simple reproducible example, building on the relations illustrated in @fig-spatial-relations and consolidating knowledge of how vector geometries are represented from a previous chapter (@sec-geometry-columns and @sec-geometries)."
      ]
    },
    {
      "cell_type": "code",
      "metadata": {},
      "source": [
        "points = gpd.GeoSeries([\n",
        "  shapely.Point(0.2,0.1), \n",
        "  shapely.Point(0.7,0.2), \n",
        "  shapely.Point(0.4,0.8)\n",
        "])\n",
        "line = gpd.GeoSeries([\n",
        "  shapely.LineString([(0.4,0.2), (1,0.5)])\n",
        "])\n",
        "poly = gpd.GeoSeries([\n",
        "  shapely.Polygon([(0,0), (0,1), (1,1), (1,0.5), (0,0)])\n",
        "])"
      ],
      "execution_count": null,
      "outputs": []
    },
    {
      "cell_type": "markdown",
      "metadata": {},
      "source": [
        "The sample dataset which we created is composed of three is `GeoSeries`: named `points`, `line`, and `poly`, which are visualized in @fig-spatial-relations-geoms.\n",
        "The last expression is a `for` loop used to add text labels (`0`, `1`, and `2`) to identify the points; we are going to explain the concepts of text annotations with **geopandas** `.plot` in @sec-plot-static-labels."
      ]
    },
    {
      "cell_type": "code",
      "metadata": {},
      "source": [
        "#| label: fig-spatial-relations-geoms\n",
        "#| fig-cap: Points (`points`), line (`line`), and polygon (`poly`) objects used to illustrate topological relations\n",
        "base = poly.plot(color='lightgrey', edgecolor='red')\n",
        "line.plot(ax=base, color='black', linewidth=7)\n",
        "points.plot(ax=base, color='none', edgecolor='black')\n",
        "for i in enumerate(points):\n",
        "    base.annotate(\n",
        "        i[0], xy=(i[1].x, i[1].y), \n",
        "        xytext=(3, 3), textcoords='offset points', weight='bold'\n",
        "    )"
      ],
      "execution_count": null,
      "outputs": []
    },
    {
      "cell_type": "markdown",
      "metadata": {},
      "source": [
        "A simple query is: which of the points in `points` intersect in some way with polygon `poly`?\n",
        "The question can be answered by visual inspection (points `0` and `2` are touching and are within the polygon, respectively).\n",
        "Alternatively, we can get the solution with the `.intersects` method, which reports whether or not each geometry in a `GeoSeries` (`points`) intersects with a single `shapely` geometry (`poly.iloc[0]`)."
      ]
    },
    {
      "cell_type": "code",
      "metadata": {},
      "source": [
        "points.intersects(poly.iloc[0])"
      ],
      "execution_count": null,
      "outputs": []
    },
    {
      "cell_type": "markdown",
      "metadata": {},
      "source": [
        "The result shown above is a boolean `Series`.\n",
        "Its contents should match our intuition: positive (`True`) results are returned for the points `0` and `2`, and a negative result (`False`) for point `1`.\n",
        "Each value in this `Series` represents a feature in the first input (`points`).\n",
        "\n",
        "All earlier examples in this chapter demonstrate the 'many-to-one' mode of `.intersects` and analogous methods, where the relation is evaluated between each of several geometries in a `GeoSeries`/`GeoDataFrame`, and an individual `shapely` geometry.\n",
        "A second mode of those methods (not demonstrated here) is when both inputs are `GeoSeries`/`GeoDataFrame` objects.\n",
        "In such case, a 'pairwise' evaluation takes place between geometries aligned by index (`align=True`, the default) or by position (`align=False`).\n",
        "For example, the expression `nz.intersects(nz)` returns a `Series` of 16 `True` values, indicating (unsurprisingly) that each geometry in `nz` intersects with itself.\n",
        "\n",
        "A third mode is when we are interested in a 'many-to-many' evaluation, i.e., obtaining a matrix of all pairwise combinations of geometries from two `GeoSeries` objects.\n",
        "At the time of writing, there is no built-in method to do this in **geopandas**.\n",
        "However, the `.apply` method (package **pandas**) can be used to repeat a 'many-to-one' evaluation over all geometries in the second layer, resulting in a matrix of *pairwise* results.\n",
        "We will create another `GeoSeries` with two polygons, named `poly2`, to demonstrate this."
      ]
    },
    {
      "cell_type": "code",
      "metadata": {},
      "source": [
        "poly2 = gpd.GeoSeries([\n",
        "  shapely.Polygon([(0,0), (0,1), (1,1), (1,0.5), (0,0)]),\n",
        "  shapely.Polygon([(0,0), (1,0.5), (1,0), (0,0)])\n",
        "])"
      ],
      "execution_count": null,
      "outputs": []
    },
    {
      "cell_type": "markdown",
      "metadata": {},
      "source": [
        "Our two input objects, `points` and `poly2`, are illustrated in @fig-spatial-relations-geoms2."
      ]
    },
    {
      "cell_type": "code",
      "metadata": {},
      "source": [
        "#| label: fig-spatial-relations-geoms2\n",
        "#| fig-cap: Inputs for demonstrating the evaluation of all pairwise intersection relations between three points (`points`) and two polygons (`poly2`)\n",
        "base = poly2.plot(color='lightgrey', edgecolor='red')\n",
        "points.plot(ax=base, color='none', edgecolor='black')\n",
        "for i in enumerate(points):\n",
        "    base.annotate(\n",
        "        i[0], xy=(i[1].x, i[1].y), \n",
        "        xytext=(3, 3), textcoords='offset points', weight='bold'\n",
        "    )"
      ],
      "execution_count": null,
      "outputs": []
    },
    {
      "cell_type": "markdown",
      "metadata": {},
      "source": [
        "Now we can use `.apply` to get the intersection relations matrix.\n",
        "The result is a `DataFrame`, where each row represents a `points` geometry and each column represents a `poly2` geometry.\n",
        "We can see that the point `0` intersects with both polygons, while points `1` and `2` intersect with one of the polygons each."
      ]
    },
    {
      "cell_type": "code",
      "metadata": {},
      "source": [
        "points.apply(lambda x: poly2.intersects(x))"
      ],
      "execution_count": null,
      "outputs": []
    },
    {
      "cell_type": "markdown",
      "metadata": {},
      "source": [
        "::: callout-note\n",
        "The `.apply` method (package **pandas**) is used to apply a function along one of the axes of a `DataFrame` (or `GeoDataFrame`).\n",
        "That is, we can apply a function on all rows (`axis=1`) or all columns (`axis=0`, the default). \n",
        "When the function being applied returns a single value, the output of `.apply` is a `Series` (e.g., `.apply(len)` returns the lengths of all columns, because `len` returns a single value). \n",
        "When the function returns a `Series`, then `.apply` returns a `DataFrame` (such as in the above example.)\n",
        ":::\n",
        "\n",
        "::: callout-note\n",
        "Since the above result, like any pairwise matrix, (1) is composed of values of the same type, and (2) has no contrasting role for rows and columns, is may be more convenient to use a plain **numpy** array to work with it. \n",
        "In such case, we can use the `.to_numpy` method to go from `DataFrame` to `ndarray`."
      ]
    },
    {
      "cell_type": "code",
      "metadata": {},
      "source": [
        "points.apply(lambda x: poly2.intersects(x)).to_numpy()"
      ],
      "execution_count": null,
      "outputs": []
    },
    {
      "cell_type": "markdown",
      "metadata": {},
      "source": [
        ":::\n",
        "\n",
        "The `.intersects` method returns `True` even in cases where the features just touch: intersects is a 'catch-all' topological operation which identifies many types of spatial relations, as illustrated in @fig-spatial-relations.\n",
        "More restrictive questions include which points lie within the polygon, and which features are on or contain a shared boundary with it?\n",
        "The first question can be answered with `.within`, and the second with `.touches`."
      ]
    },
    {
      "cell_type": "code",
      "metadata": {},
      "source": [
        "points.within(poly.iloc[0])"
      ],
      "execution_count": null,
      "outputs": []
    },
    {
      "cell_type": "code",
      "metadata": {},
      "source": [
        "points.touches(poly.iloc[0])"
      ],
      "execution_count": null,
      "outputs": []
    },
    {
      "cell_type": "markdown",
      "metadata": {},
      "source": [
        "Note that although the point `0` touches the boundary polygon, it is not within it; point `2` is within the polygon but does not touch any part of its border.\n",
        "The opposite of `.intersects` is `.disjoint`, which returns only objects that do not spatially relate in any way to the selecting object."
      ]
    },
    {
      "cell_type": "code",
      "metadata": {},
      "source": [
        "points.disjoint(poly.iloc[0])"
      ],
      "execution_count": null,
      "outputs": []
    },
    {
      "cell_type": "markdown",
      "metadata": {},
      "source": [
        "Another useful type of relation is 'within distance', where we detect features that intersect with the target buffered by particular distance.\n",
        "Buffer distance determines how close target objects need to be before they are selected.\n",
        "This can be done by literally buffering (@sec-geometries) the target geometry, and evaluating intersection (`.intersects`).\n",
        "Another way is to calculate the distances using the `.distance` method, and then evaluate whether they are within a threshold distance."
      ]
    },
    {
      "cell_type": "code",
      "metadata": {},
      "source": [
        "points.distance(poly.iloc[0]) < 0.2"
      ],
      "execution_count": null,
      "outputs": []
    },
    {
      "cell_type": "markdown",
      "metadata": {},
      "source": [
        "Note that although point `1` is more than `0.2` units of distance from the nearest vertex of `poly`, it is still selected when the distance is set to `0.2`.\n",
        "This is because distance is measured to the nearest edge, in this case, the part of the polygon that lies directly above point 2 in Figure @fig-spatial-relations.\n",
        "We can verify that the actual distance between point `1` and the polygon is `0.13`, as follows."
      ]
    },
    {
      "cell_type": "code",
      "metadata": {},
      "source": [
        "points.iloc[1].distance(poly.iloc[0])"
      ],
      "execution_count": null,
      "outputs": []
    },
    {
      "cell_type": "markdown",
      "metadata": {},
      "source": [
        "This is also a good opportunity to repeat that all distance-related calculations in **geopandas** (and **shapely**) assume planar geometry, and only take into account the coordinate values. It is up to the user to make sure that all input layers are in the same projected CRS, so that this type of calculations make sense (see @sec-geometry-operations-on-projected-and-unprojected-data and @sec-when-to-reproject).\n",
        "\n",
        "### Spatial joining {#sec-spatial-joining}\n",
        "\n",
        "Joining two non-spatial datasets uses a shared 'key' variable, as described in @sec-vector-attribute-joining.\n",
        "Spatial data joining applies the same concept, but instead relies on spatial relations, described in the previous section.\n",
        "As with attribute data, joining adds new columns to the target object (the argument `x` in joining functions), from a source object (`y`).\n",
        "\n",
        "The following example illustrates the process: imagine you have ten points randomly distributed across the Earth's surface and you ask, for the points that are on land, which countries are they in?\n",
        "Implementing this idea in a reproducible example will build your geographic data handling skills and show how spatial joins work.\n",
        "The starting point is to create points that are randomly scattered over the planar surface that represents Earth's geographic coordinates, in decimal degrees (@fig-spatial-join (a))."
      ]
    },
    {
      "cell_type": "code",
      "metadata": {},
      "source": [
        "np.random.seed(11)       ## set seed for reproducibility\n",
        "bb = world.total_bounds  ## the world's bounds\n",
        "x = np.random.uniform(low=bb[0], high=bb[2], size=10)\n",
        "y = np.random.uniform(low=bb[1], high=bb[3], size=10)\n",
        "random_points = gpd.points_from_xy(x, y, crs=4326)\n",
        "random_points = gpd.GeoDataFrame({'geometry': random_points})\n",
        "random_points"
      ],
      "execution_count": null,
      "outputs": []
    },
    {
      "cell_type": "markdown",
      "metadata": {},
      "source": [
        "The scenario illustrated in @fig-spatial-join shows that the `random_points` object (top left) lacks attribute data, while the world (top right) has attributes, including country names that are shown for a sample of countries in the legend.\n",
        "Before creating the joined dataset, we use spatial subsetting to create `world_random`, which contains only countries that contain random points, to verify the number of country names returned in the joined dataset should be four (see the top right panel of @fig-spatial-join (b))."
      ]
    },
    {
      "cell_type": "code",
      "metadata": {},
      "source": [
        "world_random = world[world.intersects(random_points.union_all())]\n",
        "world_random"
      ],
      "execution_count": null,
      "outputs": []
    },
    {
      "cell_type": "markdown",
      "metadata": {},
      "source": [
        "Spatial joins are implemented with `x.sjoin(y)`, as illustrated in the code chunk below.\n",
        "The output is the `random_joined` object which is illustrated in @fig-spatial-join (c)."
      ]
    },
    {
      "cell_type": "code",
      "metadata": {},
      "source": [
        "random_joined = random_points.sjoin(world, how='left')\n",
        "random_joined"
      ],
      "execution_count": null,
      "outputs": []
    },
    {
      "cell_type": "markdown",
      "metadata": {},
      "source": [
        "@fig-spatial-join shows the input points and countries, the illustration of intersecting countries, and the join result."
      ]
    },
    {
      "cell_type": "code",
      "metadata": {},
      "source": [
        "#| label: fig-spatial-join\n",
        "#| fig-cap: Illustration of a spatial join\n",
        "#| fig-subcap: \n",
        "#| - A new attribute variable is added to random points,\n",
        "#| - from source world object,\n",
        "#| - resulting in points associated with country names\n",
        "#| layout-ncol: 2\n",
        "# Random points\n",
        "base = world.plot(color='white', edgecolor='lightgrey')\n",
        "random_points.plot(ax=base, color='None', edgecolor='red');\n",
        "# World countries intersecting with the points\n",
        "base = world.plot(color='white', edgecolor='lightgrey')\n",
        "world_random.plot(ax=base, column='name_long');\n",
        "# Points with joined country names\n",
        "base = world.plot(color='white', edgecolor='lightgrey')\n",
        "random_joined.geometry.plot(ax=base, color='grey')\n",
        "random_joined.plot(ax=base, column='name_long', legend=True);"
      ],
      "execution_count": null,
      "outputs": []
    },
    {
      "cell_type": "markdown",
      "metadata": {},
      "source": [
        "### Non-overlapping joins\n",
        "\n",
        "Sometimes two geographic datasets do not touch but still have a strong geographic relationship.\n",
        "The datasets `cycle_hire` and `cycle_hire_osm` provide a good example.\n",
        "Plotting them reveals that they are often closely related but they do not seem to touch, as shown in @fig-cycle-hire."
      ]
    },
    {
      "cell_type": "code",
      "metadata": {},
      "source": [
        "#| label: fig-cycle-hire\n",
        "#| fig-cap: The spatial distribution of cycle hire points in London based on official data (blue) and OpenStreetMap data (red). \n",
        "base = cycle_hire.plot(edgecolor='blue', color='none')\n",
        "cycle_hire_osm.plot(ax=base, edgecolor='red', color='none');"
      ],
      "execution_count": null,
      "outputs": []
    },
    {
      "cell_type": "markdown",
      "metadata": {},
      "source": [
        "We can check if any of the points are the same by creating a pairwise boolean matrix of `.intersects` relations, then evaluating whether any of the values in it is `True`.\n",
        "Note that the `.to_numpy` method is applied to go from a `DataFrame` to an `ndarray`, for which `.any` gives a global rather than a row-wise summary.\n",
        "This is what we want in this case, because we are interested in whether any of the points intersect, not whether any of the points in each row intersect."
      ]
    },
    {
      "cell_type": "code",
      "metadata": {},
      "source": [
        "m = cycle_hire.geometry.apply(\n",
        "  lambda x: cycle_hire_osm.geometry.intersects(x)\n",
        ")\n",
        "m.to_numpy().any()"
      ],
      "execution_count": null,
      "outputs": []
    },
    {
      "cell_type": "markdown",
      "metadata": {},
      "source": [
        "Imagine that we need to join the capacity variable in `cycle_hire_osm` (`'capacity'`) onto the official 'target' data contained in `cycle_hire`, which looks as follows."
      ]
    },
    {
      "cell_type": "code",
      "metadata": {},
      "source": [
        "cycle_hire"
      ],
      "execution_count": null,
      "outputs": []
    },
    {
      "cell_type": "markdown",
      "metadata": {},
      "source": [
        "This is when a non-overlapping join is needed.\n",
        "Spatial join (`gpd.sjoin`) along with buffered geometries (see @sec-buffers) can be used to do that, as demonstrated below using a threshold distance of 20 $m$.\n",
        "Note that we transform the data to a projected CRS (`27700`) to use real buffer distances, in meters (see @sec-geometry-operations-on-projected-and-unprojected-data)."
      ]
    },
    {
      "cell_type": "code",
      "metadata": {},
      "source": [
        "crs = 27700\n",
        "cycle_hire_buffers = cycle_hire.copy().to_crs(crs)\n",
        "cycle_hire_buffers.geometry = cycle_hire_buffers.buffer(20)\n",
        "cycle_hire_buffers = gpd.sjoin(\n",
        "    cycle_hire_buffers, \n",
        "    cycle_hire_osm.to_crs(crs), \n",
        "    how='left'\n",
        ")\n",
        "cycle_hire_buffers"
      ],
      "execution_count": null,
      "outputs": []
    },
    {
      "cell_type": "markdown",
      "metadata": {},
      "source": [
        "Note that the number of rows in the joined result is greater than the target.\n",
        "This is because some cycle hire stations in `cycle_hire_buffers` have multiple matches in `cycle_hire_osm`.\n",
        "To aggregate the values for the overlapping points and return the mean, we can use the aggregation methods shown in @sec-vector-attribute-aggregation, resulting in an object with the same number of rows as the target.\n",
        "We also go back from buffers to points using `.centroid` method."
      ]
    },
    {
      "cell_type": "code",
      "metadata": {},
      "source": [
        "cycle_hire_buffers = cycle_hire_buffers[['id', 'capacity', 'geometry']] \\\n",
        "    .dissolve(by='id', aggfunc='mean') \\\n",
        "    .reset_index()\n",
        "cycle_hire_buffers.geometry = cycle_hire_buffers.centroid\n",
        "cycle_hire_buffers"
      ],
      "execution_count": null,
      "outputs": []
    },
    {
      "cell_type": "markdown",
      "metadata": {},
      "source": [
        "The capacity of nearby stations can be verified by comparing a plot of the capacity of the source `cycle_hire_osm` data, with the join results in the new object `cycle_hire_buffers` (@fig-cycle-hire-z)."
      ]
    },
    {
      "cell_type": "code",
      "metadata": {},
      "source": [
        "#| label: fig-cycle-hire-z\n",
        "#| fig-cap: Non-overlapping join\n",
        "#| fig-subcap: \n",
        "#| - Input (`cycle_hire_osm`)\n",
        "#| - Join result (`cycle_hire_buffers`)\n",
        "#| layout-ncol: 2\n",
        "# Input\n",
        "fig, ax = plt.subplots(1, 1, figsize=(6, 3))\n",
        "cycle_hire_osm.plot(column='capacity', legend=True, ax=ax);\n",
        "# Join result\n",
        "fig, ax = plt.subplots(1, 1, figsize=(6, 3))\n",
        "cycle_hire_buffers.plot(column='capacity', legend=True, ax=ax);"
      ],
      "execution_count": null,
      "outputs": []
    },
    {
      "cell_type": "markdown",
      "metadata": {},
      "source": [
        "### Spatial aggregation {#sec-vector-spatial-aggregation}\n",
        "\n",
        "As with attribute data aggregation, spatial data aggregation condenses data: aggregated outputs have fewer rows than non-aggregated inputs.\n",
        "Statistical aggregating functions, such as mean, average, or sum, summarize multiple values of a variable, and return a single value per grouping variable.\n",
        "@sec-vector-attribute-aggregation demonstrated how the `.groupby` method, combined with summary functions such as `.sum`, condense data based on attribute variables.\n",
        "This section shows how grouping by spatial objects can be achieved using spatial joins combined with non-spatial aggregation.\n",
        "\n",
        "Returning to the example of New Zealand, imagine you want to find out the average height of `nz_height` points in each region.\n",
        "It is the geometry of the source (`nz`) that defines how values in the target object (`nz_height`) are grouped.\n",
        "This can be done in three steps:\n",
        "\n",
        "1.  Figuring out which `nz` region each `nz_height` point falls in---using `gpd.sjoin`\n",
        "2.  Summarizing the average elevation per region---using `.groupby` and `.mean`\n",
        "3.  Joining the result back to `nz`---using `pd.merge`\n",
        "\n",
        "First, we 'attach' the region classification of each point, using spatial join (@sec-spatial-joining).\n",
        "Note that we are using the minimal set of columns required: the geometries (for the spatial join to work), the point elevation (to later calculate an average), and the region name (to use as key when joining the results back to `nz`).\n",
        "The result tells us which `nz` region each elevation point falls in."
      ]
    },
    {
      "cell_type": "code",
      "metadata": {},
      "source": [
        "nz_height2 = gpd.sjoin(\n",
        "  nz_height[['elevation', 'geometry']], \n",
        "  nz[['Name', 'geometry']], \n",
        "  how='left'\n",
        ")\n",
        "nz_height2"
      ],
      "execution_count": null,
      "outputs": []
    },
    {
      "cell_type": "markdown",
      "metadata": {},
      "source": [
        "Second, we calculate the average elevation, using ordinary (non-spatial) aggregation (@sec-vector-attribute-aggregation).\n",
        "This result tells us the average elevation of all `nz_height` points located within each `nz` region."
      ]
    },
    {
      "cell_type": "code",
      "metadata": {},
      "source": [
        "nz_height2 = nz_height2.groupby('Name')[['elevation']].mean().reset_index()\n",
        "nz_height2"
      ],
      "execution_count": null,
      "outputs": []
    },
    {
      "cell_type": "markdown",
      "metadata": {},
      "source": [
        "The third and final step is joining the averages back to the `nz` layer."
      ]
    },
    {
      "cell_type": "code",
      "metadata": {},
      "source": [
        "nz2 = pd.merge(nz[['Name', 'geometry']], nz_height2, on='Name', how='left')\n",
        "nz2"
      ],
      "execution_count": null,
      "outputs": []
    },
    {
      "cell_type": "markdown",
      "metadata": {},
      "source": [
        "We now have create the `nz2` layer, which gives the average `nz_height` elevation value per polygon.\n",
        "The result is shown in @fig-nz-avg-nz-height.\n",
        "Note that the `missing_kwds` part determines the style of geometries where the symbology attribute (`elevation`) is missing, because there were no `nz_height` points overlapping with them.\n",
        "The default is to omit them, which is usually not what we want, but with `{'color':'grey','edgecolor':'black'}`, those polygons are shown with black outline and grey fill."
      ]
    },
    {
      "cell_type": "code",
      "metadata": {},
      "source": [
        "#| label: fig-nz-avg-nz-height\n",
        "#| fig-cap: Average height of the top 101 high points across the regions of New Zealand\n",
        "nz2.plot(\n",
        "  column='elevation', \n",
        "  legend=True,\n",
        "  cmap='Blues', edgecolor='black',\n",
        "  missing_kwds={'color': 'grey', 'edgecolor': 'black'}\n",
        ");"
      ],
      "execution_count": null,
      "outputs": []
    },
    {
      "cell_type": "markdown",
      "metadata": {},
      "source": [
        "### Joining incongruent layers {#sec-joining-incongruent-layers}\n",
        "\n",
        "Spatial congruence is an important concept related to spatial aggregation.\n",
        "An aggregating object (which we will refer to as `y`) is congruent with the target object (`x`) if the two objects have shared borders.\n",
        "Often this is the case for administrative boundary data, whereby larger units---such as Middle Layer Super Output Areas (MSOAs) in the UK, or districts in many other European countries---are composed of many smaller units.\n",
        "\n",
        "Incongruent aggregating objects, by contrast, do not share common borders with the target [@qiu_development_2012].\n",
        "This is problematic for spatial aggregation (and other spatial operations) illustrated in @fig-nz-and-grid: aggregating the centroid of each sub-zone will not return accurate results.\n",
        "Areal interpolation overcomes this issue by transferring values from one set of areal units to another, using a range of algorithms including simple area-weighted approaches and more sophisticated approaches such as 'pycnophylactic' methods [@tobler_smooth_1979].\n",
        "\n",
        "To demonstrate joining incongruent layers, we will create a 'synthetic' layer comprising a regular grid of rectangles of size $100\\times100$ $km$, covering the extent of the `nz` layer. \n",
        "This recipe can be used to create a regular grid covering any given layer (other than `nz`), at the specified resolution (`res`). \n",
        "Most of the functions have been explained in previous chapters; we leave it as an exercise for the reader to explore how the code works."
      ]
    },
    {
      "cell_type": "code",
      "metadata": {},
      "source": [
        "# Settings: grid extent, resolution, and CRS\n",
        "bounds = nz.total_bounds\n",
        "crs = nz.crs\n",
        "res = 100000\n",
        "# Calculating grid dimensions\n",
        "xmin, ymin, xmax, ymax = bounds\n",
        "cols = list(range(int(np.floor(xmin)), int(np.ceil(xmax+res)), res))\n",
        "rows = list(range(int(np.floor(ymin)), int(np.ceil(ymax+res)), res))\n",
        "rows.reverse()\n",
        "# For each cell, create 'shapely' polygon (rectangle)\n",
        "polygons = []\n",
        "for x in cols:\n",
        "    for y in rows:\n",
        "        polygons.append(\n",
        "            shapely.Polygon([(x,y), (x+res, y), (x+res, y-res), (x, y-res)])\n",
        "        )\n",
        "# To 'GeoDataFrame'\n",
        "grid = gpd.GeoDataFrame({'geometry': polygons}, crs=crs)\n",
        "# Remove rows/columns beyond the extent\n",
        "sel = grid.intersects(shapely.box(*bounds))\n",
        "grid = grid[sel]\n",
        "# Add consecultive IDs\n",
        "grid['id'] = grid.index\n",
        "grid"
      ],
      "execution_count": null,
      "outputs": []
    },
    {
      "cell_type": "markdown",
      "metadata": {},
      "source": [
        "@fig-nz-and-grid shows the newly created `grid` layer, along with the `nz` layer."
      ]
    },
    {
      "cell_type": "code",
      "metadata": {},
      "source": [
        "#| label: fig-nz-and-grid\n",
        "#| fig-cap: The `nz` layer, with population size in each region, overlaid with a regular `grid` of rectangles\n",
        "base = grid.plot(color='none', edgecolor='grey')\n",
        "nz.plot(\n",
        "    ax=base, \n",
        "    column='Population', \n",
        "    edgecolor='black', \n",
        "    legend=True, \n",
        "    cmap='Reds'\n",
        ");"
      ],
      "execution_count": null,
      "outputs": []
    },
    {
      "cell_type": "markdown",
      "metadata": {},
      "source": [
        "Our goal, now, is to 'transfer' the `'Population'` attribute (@fig-nz-and-grid) to the rectangular grid polygons, which is an example of a join between incongruent layers.\n",
        "To do that, we basically need to calculate--for each `grid` cell---the weighted sum of the population in `nz` polygons coinciding with that cell.\n",
        "The weights in the weighted sum calculation are the ratios between the area of the coinciding 'part' out of the entire `nz` polygon.\n",
        "That is, we (inevitably) assume that the population in each `nz` polygon is equally distributed across space, therefore a partial `nz` polygon contains the respective partial population size.\n",
        "\n",
        "We start by calculating the entire area of each `nz` polygon, as follows, using the `.area` method (@sec-area-length)."
      ]
    },
    {
      "cell_type": "code",
      "metadata": {},
      "source": [
        "nz['area'] = nz.area\n",
        "nz"
      ],
      "execution_count": null,
      "outputs": []
    },
    {
      "cell_type": "markdown",
      "metadata": {},
      "source": [
        "Next, we use the `.overlay` method to calculate the pairwise intersections between `nz` and `grid`.\n",
        "As a result, we now have a layer where each `nz` polygon is split according to the `grid` polygons, hereby named `nz_grid`."
      ]
    },
    {
      "cell_type": "code",
      "metadata": {},
      "source": [
        "nz_grid = nz.overlay(grid)\n",
        "nz_grid = nz_grid[['id', 'area', 'Population', 'geometry']]\n",
        "nz_grid"
      ],
      "execution_count": null,
      "outputs": []
    },
    {
      "cell_type": "markdown",
      "metadata": {},
      "source": [
        "@fig-nz-and-grid-overlay illustrates the effect of `.overlay`:"
      ]
    },
    {
      "cell_type": "code",
      "metadata": {},
      "source": [
        "#| label: fig-nz-and-grid-overlay\n",
        "#| fig-cap: The pairwise intersections of `nz` and `grid`, calculated with `.overlay`\n",
        "nz_grid.plot(color='none', edgecolor='black');"
      ],
      "execution_count": null,
      "outputs": []
    },
    {
      "cell_type": "markdown",
      "metadata": {},
      "source": [
        "We also need to calculate the areas of the intersections, here into a new attribute `'area_sub'`.\n",
        "If an `nz` polygon was completely within a single `grid` polygon, then `area_sub` is going to be equal to `area`; otherwise, it is going to be smaller."
      ]
    },
    {
      "cell_type": "code",
      "metadata": {},
      "source": [
        "nz_grid['area_sub'] = nz_grid.area\n",
        "nz_grid"
      ],
      "execution_count": null,
      "outputs": []
    },
    {
      "cell_type": "markdown",
      "metadata": {},
      "source": [
        "The resulting layer `nz_grid`, with the `area_sub` attribute, is shown in @fig-nz-and-grid2."
      ]
    },
    {
      "cell_type": "code",
      "metadata": {},
      "source": [
        "#| label: fig-nz-and-grid2\n",
        "#| fig-cap: The areas of pairwise intersections in the `nz_grid` layer\n",
        "base = grid.plot(color='none', edgecolor='grey')\n",
        "nz_grid.plot(\n",
        "    ax=base, \n",
        "    column='area_sub', \n",
        "    edgecolor='black',\n",
        "    legend=True, \n",
        "    cmap='Reds'\n",
        ");"
      ],
      "execution_count": null,
      "outputs": []
    },
    {
      "cell_type": "markdown",
      "metadata": {},
      "source": [
        "Note that each of the intersections still holds the `Population` attribute of its 'origin' feature of `nz`, i.e., each portion of the `nz` area is associated with the original complete population count for that area.\n",
        "The real population size of each `nz_grid` feature, however, is smaller, or equal, depending on the geographic area proportion that it occupies out of the original `nz` feature.\n",
        "To make the correction, we first calculate the ratio (`area_prop`) and then multiply it by the population.\n",
        "The new (lowercase) attribute `population` now has the correct estimate of population sizes in `nz_grid`:"
      ]
    },
    {
      "cell_type": "code",
      "metadata": {},
      "source": [
        "nz_grid['area_prop'] = nz_grid['area_sub'] / nz_grid['area']\n",
        "nz_grid['population'] = nz_grid['Population'] * nz_grid['area_prop']\n",
        "nz_grid"
      ],
      "execution_count": null,
      "outputs": []
    },
    {
      "cell_type": "markdown",
      "metadata": {},
      "source": [
        "What is left to be done is to sum (see @sec-vector-attribute-aggregation) the population in all parts forming the same grid cell and join (see @sec-vector-attribute-joining) them back to the `grid` layer.\n",
        "Note that many of the grid cells have 'No Data' for population, because they have no intersection with `nz` at all (@fig-nz-and-grid)."
      ]
    },
    {
      "cell_type": "code",
      "metadata": {},
      "source": [
        "nz_grid = nz_grid.groupby('id')['population'].sum().reset_index()\n",
        "grid = pd.merge(grid, nz_grid[['id', 'population']], on='id', how='left')\n",
        "grid"
      ],
      "execution_count": null,
      "outputs": []
    },
    {
      "cell_type": "markdown",
      "metadata": {},
      "source": [
        "@fig-nz-and-grid3 shows the final result `grid` with the incongruently-joined `population` attribute from `nz`."
      ]
    },
    {
      "cell_type": "code",
      "metadata": {},
      "source": [
        "#| label: fig-nz-and-grid3\n",
        "#| fig-cap: 'The `nz` layer and a regular grid of rectangles: final result'\n",
        "base = grid.plot(\n",
        "    column='population', \n",
        "    edgecolor='black',\n",
        "    legend=True, \n",
        "    cmap='Reds'\n",
        ");\n",
        "nz.plot(ax=base, color='none', edgecolor='grey', legend=True);"
      ],
      "execution_count": null,
      "outputs": []
    },
    {
      "cell_type": "markdown",
      "metadata": {},
      "source": [
        "We can demonstrate that, expectedly, the summed population in `nz` and `grid` is identical, even though the geometry is different (since we created `grid` to completely cover `nz`), by comparing the `.sum` of the `population` attribute in both layers."
      ]
    },
    {
      "cell_type": "code",
      "metadata": {},
      "source": [
        "nz['Population'].sum()"
      ],
      "execution_count": null,
      "outputs": []
    },
    {
      "cell_type": "code",
      "metadata": {},
      "source": [
        "grid['population'].sum()"
      ],
      "execution_count": null,
      "outputs": []
    },
    {
      "cell_type": "markdown",
      "metadata": {},
      "source": [
        "The procedure in this section is known as an area-weighted interpolation of a spatially *extensive* (e.g., population) variable.\n",
        "In extensive interpolation, we assume that the variable of interest represents counts (such as, here, inhabitants) uniformly distributed across space. \n",
        "In such case, each part of a given polygon captures the respective proportion of counts (such as, half of a region with $N$ inhabitants contains $N/2$ inhabitants).\n",
        "Accordingly, summing the parts gives the total count of the total area.\n",
        "\n",
        "An area-weighted interpolation of a spatially *intensive* variable (e.g., population density) is almost identical, except that we would have to calculate the weighted `.mean` rather than `.sum`, to preserve the average rather than the sum.\n",
        "In intensive interpolation, we assume that the variable of interest represents counts per unit area, i.e., density.\n",
        "Since density is (assumed to be) uniform, any part of a given polygon has exactly the same density as that of the whole polygon.\n",
        "Density values are therefore computed as weighted averages, rather than sums, of the parts. \n",
        "Also, see the 'Area-weighted interpolation' section in @pebesma_spatial_2023.\n",
        "\n",
        "### Distance relations {#sec-distance-relations}\n",
        "\n",
        "While topological relations are binary---a feature either intersects with another or does not---distance relations are continuous.\n",
        "The distance between two objects is calculated with the `.distance` method.\n",
        "The method is applied on a `GeoSeries` (or a `GeoDataFrame`), with the argument being an individual `shapely` geometry.\n",
        "The result is a `Series` of pairwise distances.\n",
        "\n",
        "::: callout-note\n",
        "**geopandas** uses similar syntax and mode of operation for many of its methods and functions, including:\n",
        "\n",
        "* Numeric calculations, such as `.distance` (this section), returning numeric values\n",
        "* Topological evaluation methods, such as `.intersects` or `.disjoint` (@sec-topological-relations), returning boolean values \n",
        "* Geometry generating-methods, such as `.intersection` (@sec-clipping), returning geometries\n",
        "\n",
        "In all cases, the input is a `GeoSeries` and (or a `GeoDataFrame`) and a `shapely` geometry, and the output is a `Series` or `GeoSeries` of results, contrasting each geometry from the `GeoSeries` with the `shapely` geometry. \n",
        "The examples in this book demonstrate this, so-called 'many-to-one', mode of the functions. \n",
        "\n",
        "All of the above-mentioned methods also have a pairwise mode, perhaps less useful and not used in the book, where we evaluate relations between pairs of geometries in two `GeoSeries`, aligned either by index or by position. \n",
        ":::\n",
        "\n",
        "To illustrate the `.distance` method, let's take the three highest points in New Zealand with `.sort_values` and `.iloc`."
      ]
    },
    {
      "cell_type": "code",
      "metadata": {},
      "source": [
        "nz_highest = nz_height.sort_values(by='elevation', ascending=False).iloc[:3, :]\n",
        "nz_highest"
      ],
      "execution_count": null,
      "outputs": []
    },
    {
      "cell_type": "markdown",
      "metadata": {},
      "source": [
        "Additionally, we need the geographic centroid of the Canterbury region (`canterbury`, created in @sec-spatial-subsetting-vector)."
      ]
    },
    {
      "cell_type": "code",
      "metadata": {},
      "source": [
        "canterbury_centroid = canterbury.centroid.iloc[0]"
      ],
      "execution_count": null,
      "outputs": []
    },
    {
      "cell_type": "markdown",
      "metadata": {},
      "source": [
        "Now we are able to apply `.distance` to calculate the distances from each of the three elevation points to the centroid of the Canterbury region."
      ]
    },
    {
      "cell_type": "code",
      "metadata": {},
      "source": [
        "nz_highest.distance(canterbury_centroid)"
      ],
      "execution_count": null,
      "outputs": []
    },
    {
      "cell_type": "markdown",
      "metadata": {},
      "source": [
        "To obtain a distance matrix, i.e., a pairwise set of distances between all combinations of features in objects `x` and `y`, we need to use the `.apply` method (analogous to the way we created the `.intersects` boolean matrix in @sec-topological-relations).\n",
        "To illustrate this, let's now take two regions in `nz`, Otago and Canterbury, represented by the object `co`."
      ]
    },
    {
      "cell_type": "code",
      "metadata": {},
      "source": [
        "sel = nz['Name'].str.contains('Canter|Otag')\n",
        "co = nz[sel]\n",
        "co"
      ],
      "execution_count": null,
      "outputs": []
    },
    {
      "cell_type": "markdown",
      "metadata": {},
      "source": [
        "The distance matrix (technically speaking, a `DataFrame`) `d` between each of the first three elevation points, and the two regions, is then obtained as follows.\n",
        "In plain language, we take the geometry from each each row in `nz_height.iloc[:3,:]`, and apply the `.distance` method on `co` with its rows as the argument."
      ]
    },
    {
      "cell_type": "code",
      "metadata": {},
      "source": [
        "d = nz_height.iloc[:3, :].apply(lambda x: co.distance(x.geometry), axis=1)\n",
        "d"
      ],
      "execution_count": null,
      "outputs": []
    },
    {
      "cell_type": "markdown",
      "metadata": {},
      "source": [
        "Note that the distance between the second and third features in `nz_height` and the second feature in `co` is zero.\n",
        "This demonstrates the fact that distances between points and polygons refer to the distance to any part of the polygon: the second and third points in `nz_height` are in Otago, which can be verified by plotting them (two almost completely overlappling points in @fig-nz-height-and-otago)."
      ]
    },
    {
      "cell_type": "code",
      "metadata": {},
      "source": [
        "#| label: fig-nz-height-and-otago\n",
        "#| fig-cap: The first three `nz_height` points, and the Otago and Canterbury regions from `nz`\n",
        "fig, ax = plt.subplots()\n",
        "co.plot(color='lightgrey', edgecolor='black', ax=ax)\n",
        "co.apply(\n",
        "    lambda x: ax.annotate(\n",
        "        text=x['Name'], \n",
        "        xy=x.geometry.centroid.coords[0], \n",
        "        ha='center'\n",
        "    ), \n",
        "    axis=1\n",
        ")\n",
        "nz_height.iloc[:3, :].plot(color='none', edgecolor='black', ax=ax);"
      ],
      "execution_count": null,
      "outputs": []
    },
    {
      "cell_type": "markdown",
      "metadata": {},
      "source": [
        "## Spatial operations on raster data {#sec-spatial-ras}\n",
        "\n",
        "This section builds on @sec-manipulating-raster-objects, which highlights various basic methods for manipulating raster datasets, to demonstrate more advanced and explicitly spatial raster operations, and uses the `elev.tif` and `grain.tif` rasters manually created in @sec-raster-from-scratch.\n",
        "\n",
        "### Spatial subsetting {#sec-spatial-subsetting-raster}\n",
        "\n",
        "The previous chapter (and especially @sec-manipulating-raster-objects) demonstrated how to retrieve values associated with specific row and column combinations from a raster.\n",
        "Raster values can also be extracted by location (coordinates) and other spatial objects.\n",
        "To use coordinates for subsetting, we can use the `.sample` method of a `rasterio` file connection object, combined with a list of coordinate tuples.\n",
        "The method is demonstrated below to find the value of the cell that covers a point located at coordinates of `(0.1,0.1)` in `elev`.\n",
        "The returned object is a *generator*. \n",
        "The rationale for returning a generator, rather than a `list`, is memory efficiency. \n",
        "The number of sampled points may be huge, in which case we would want to generate the values one at a time rather than all at once."
      ]
    },
    {
      "cell_type": "code",
      "metadata": {},
      "source": [
        "src_elev.sample([(0.1, 0.1)])"
      ],
      "execution_count": null,
      "outputs": []
    },
    {
      "cell_type": "markdown",
      "metadata": {},
      "source": [
        "::: callout-note\n",
        "The technical terms *iterable*, *iterator*, and *generator* in Python may be confusing, so here is a short summary, ordered from most general to most specific:\n",
        "\n",
        "* An *iterable* is any object that we can iterate on, such as using a `for` loop. For example, a `list` is iterable. \n",
        "* An *iterator* is an object that represents a stream of data, which we can go over, each time getting the next element using `next`. Iterators are also iterable, meaning that you can over them in a loop, but they are stateful (e.g., they remember which item was obtained using `next`), meaning that you can go over them just once.\n",
        "* A *generator* is a function that returns an iterator. For example, the `.sample` method in the above example is a generator. The **rasterio** package makes use of generators in some of its functions, as we will see later on (@sec-raster-to-polygons).\n",
        ":::\n",
        "\n",
        "In case we nevertheless want all values at once, such as when the number of points is small, we can force the generatrion of all values from a generator at once, using `list`.\n",
        "Since there was just one point, the result is one extracted value, in this case `16`."
      ]
    },
    {
      "cell_type": "code",
      "metadata": {},
      "source": [
        "list(src_elev.sample([(0.1, 0.1)]))"
      ],
      "execution_count": null,
      "outputs": []
    },
    {
      "cell_type": "markdown",
      "metadata": {},
      "source": [
        "We can use the same technique to extract the values of multiple points at once.\n",
        "For example, here we extract the raster values at two points, `(0.1,0.1)` and `(1.1,1.1)`.\n",
        "The resulting values are `16` and `6`."
      ]
    },
    {
      "cell_type": "code",
      "metadata": {},
      "source": [
        "list(src_elev.sample([(0.1, 0.1), (1.1, 1.1)]))"
      ],
      "execution_count": null,
      "outputs": []
    },
    {
      "cell_type": "markdown",
      "metadata": {},
      "source": [
        "The location of the two sample points on top of the `elev.tif` raster is illustrated in @fig-elev-sample-points."
      ]
    },
    {
      "cell_type": "code",
      "metadata": {},
      "source": [
        "#| label: fig-elev-sample-points\n",
        "#| fig-cap: The `elev.tif` raster, and two points where we extract its values\n",
        "fig, ax = plt.subplots()\n",
        "rasterio.plot.show(src_elev, ax=ax)\n",
        "gpd.GeoSeries([shapely.Point(0.1, 0.1)]) \\\n",
        "    .plot(color='black', edgecolor='white', markersize=50, ax=ax)\n",
        "gpd.GeoSeries([shapely.Point(1.1, 1.1)]) \\\n",
        "    .plot(color='black', edgecolor='white', markersize=50, ax=ax);"
      ],
      "execution_count": null,
      "outputs": []
    },
    {
      "cell_type": "markdown",
      "metadata": {},
      "source": [
        "::: callout-note\n",
        "We elaborate on the plotting technique used to display the points and the raster in @sec-plot-static-layers.\n",
        "We will also introduce a more user-friendly and general method to extract raster values to points, using the **rasterstats** package, in @sec-extraction-to-points.\n",
        ":::\n",
        "\n",
        "Another common use case of spatial subsetting is using a boolean mask, based on another raster with the same extent and resolution, or the original one, as illustrated in @fig-raster-subset.\n",
        "To do that, we erase the values in the array of one raster, according to another corresponding mask raster.\n",
        "For example, let's read (@sec-using-rasterio) the `elev.tif` raster values into an array named `elev` (@fig-raster-subset (a))."
      ]
    },
    {
      "cell_type": "code",
      "metadata": {},
      "source": [
        "elev = src_elev.read(1)\n",
        "elev"
      ],
      "execution_count": null,
      "outputs": []
    },
    {
      "cell_type": "markdown",
      "metadata": {},
      "source": [
        "and create a corresponding random boolean mask named `mask` (@fig-raster-subset (b)), of the same shape as `elev.tif` with values randomly assigned to `True` and `False`."
      ]
    },
    {
      "cell_type": "code",
      "metadata": {},
      "source": [
        "np.random.seed(1)\n",
        "mask = np.random.choice([True, False], src_elev.shape)\n",
        "mask"
      ],
      "execution_count": null,
      "outputs": []
    },
    {
      "cell_type": "markdown",
      "metadata": {},
      "source": [
        "Next, suppose that we want to keep only those values of `elev` which are `False` in `mask` (i.e., they are *not* masked).\n",
        "In other words, we want to mask `elev` with `mask`.\n",
        "The result will be stored in a copy named `masked_elev` (@fig-raster-subset (c)).\n",
        "In the case of `elev.tif`, to be able to store `np.nan` in the array of values, we also need to convert it to `float` (see @sec-summarizing-raster-objects). \n",
        "Afterwards, masking is a matter of assigning `np.nan` into a subset defined by the mask, using the 'boolean array indexing' syntax of **numpy**."
      ]
    },
    {
      "cell_type": "code",
      "metadata": {},
      "source": [
        "masked_elev = elev.copy()\n",
        "masked_elev = masked_elev.astype('float64')\n",
        "masked_elev[mask] = np.nan\n",
        "masked_elev"
      ],
      "execution_count": null,
      "outputs": []
    },
    {
      "cell_type": "markdown",
      "metadata": {},
      "source": [
        "@fig-raster-subset shows the original `elev` raster, the `mask` raster, and the resulting `masked_elev` raster."
      ]
    },
    {
      "cell_type": "code",
      "metadata": {},
      "source": [
        "#| label: fig-raster-subset\n",
        "#| fig-cap: Subsetting raster values using a boolean mask\n",
        "#| layout-ncol: 3\n",
        "#| fig-subcap: \n",
        "#| - Original raster\n",
        "#| - Raster mask\n",
        "#| - Output masked raster\n",
        "rasterio.plot.show(elev);\n",
        "rasterio.plot.show(mask);\n",
        "rasterio.plot.show(masked_elev);"
      ],
      "execution_count": null,
      "outputs": []
    },
    {
      "cell_type": "markdown",
      "metadata": {},
      "source": [
        "The mask can be created from the array itself, using condition(s). \n",
        "That way, we can replace some values (e.g., values assumed to be wrong) with `np.nan`, such as in the following example."
      ]
    },
    {
      "cell_type": "code",
      "metadata": {},
      "source": [
        "elev2 = elev.copy()\n",
        "elev2 = elev2.astype('float64')\n",
        "elev2[elev2 < 20] = np.nan\n",
        "elev2"
      ],
      "execution_count": null,
      "outputs": []
    },
    {
      "cell_type": "markdown",
      "metadata": {},
      "source": [
        "This technique is also used to reclassify raster values (see @sec-raster-local-operations).\n",
        "\n",
        "### Map algebra {#sec-map-algebra}\n",
        "\n",
        "The term 'map algebra' was coined in the late 1970s to describe a 'set of conventions, capabilities, and techniques' for the analysis of geographic raster and (although less prominently) vector data [@tomlin_map_1994].\n",
        "In this context, we define map algebra more narrowly, as operations that modify or summarize raster cell values, with reference to surrounding cells, zones, or statistical functions that apply to every cell.\n",
        "\n",
        "Map algebra operations tend to be fast, because raster datasets only implicitly store coordinates, hence the old adage 'raster is faster but vector is corrector'.\n",
        "The location of cells in raster datasets can be calculated by using its matrix position and the resolution and origin of the dataset (stored in the raster metadata, @sec-using-rasterio).\n",
        "For the processing, however, the geographic position of a cell is barely relevant as long as we make sure that the cell position is still the same after the processing.\n",
        "Additionally, if two or more raster datasets share the same extent, projection, and resolution, one could treat them as matrices for the processing.\n",
        "\n",
        "Map algebra (or cartographic modeling with raster data) divides raster operations into four subclasses [@tomlin_geographic_1990], with each working on one or several grids simultaneously:\n",
        "\n",
        "-   Local or per-cell operations (@sec-raster-local-operations)\n",
        "-   Focal or neighborhood operations. Most often the output cell value is the result of a $3 \\times 3$ input cell block (@sec-focal-operations)\n",
        "-   Zonal operations are similar to focal operations, but the surrounding pixel grid on which new values are computed can have irregular sizes and shapes (@sec-zonal-operations)\n",
        "-   Global or per-raster operations; that means the output cell derives its value potentially from one or several entire rasters (@sec-global-operations-and-distances)\n",
        "\n",
        "This typology classifies map algebra operations by the number of cells used for each pixel processing step and the type of output.\n",
        "For the sake of completeness, we should mention that raster operations can also be classified by disciplines such as terrain, hydrological analysis, or image classification.\n",
        "The following sections explain how each type of map algebra operations can be used, with reference to worked examples.\n",
        "\n",
        "### Local operations {#sec-raster-local-operations}\n",
        "\n",
        "Local operations comprise all cell-by-cell operations in one or several layers.\n",
        "Raster algebra is a classical use case of local operations---this includes adding or subtracting values from a raster, squaring,, and multiplying rasters.\n",
        "Raster algebra also allows logical operations such as finding all raster cells that are greater than a specific value (e.g., `5` in our example below).\n",
        "Local operations are applied using the **numpy** array operations syntax, as demonstrated below.\n",
        "\n",
        "First, let's take the array of `elev.tif` raster values, which we already read earlier (@sec-spatial-subsetting-raster)."
      ]
    },
    {
      "cell_type": "code",
      "metadata": {},
      "source": [
        "elev"
      ],
      "execution_count": null,
      "outputs": []
    },
    {
      "cell_type": "markdown",
      "metadata": {},
      "source": [
        "Now, any element-wise array operation can be applied using **numpy** arithmetic or conditional operators and functions, comprising local raster operations in spatial analysis terminology.\n",
        "For example, `elev + elev` adds the values of `elev` to itself, resulting in a raster with double values."
      ]
    },
    {
      "cell_type": "code",
      "metadata": {},
      "source": [
        "elev + elev"
      ],
      "execution_count": null,
      "outputs": []
    },
    {
      "cell_type": "markdown",
      "metadata": {},
      "source": [
        "Note that some functions and operators automatically change the data type to accommodate the resulting values, while other operators do not, potentially resulting in overflow (i.e., incorrect values for results beyond the data type range, such as trying to accommodate values above `255` in an `int8` array).\n",
        "For example, `elev**2` (`elev` squared) results in overflow.\n",
        "Since the `**` operator does not automatically change the data type, leaving it as `int8`, the resulting array has incorrect values for `16**2`, `17**2`, etc., which are above `255` and therefore cannot be accommodated."
      ]
    },
    {
      "cell_type": "code",
      "metadata": {},
      "source": [
        "elev**2"
      ],
      "execution_count": null,
      "outputs": []
    },
    {
      "cell_type": "markdown",
      "metadata": {},
      "source": [
        "To avoid this situation, we can, for instance, transform `elev` to the standard `int64` data type, using `.astype` before applying the `**` operator.\n",
        "That way, all results, up to `36**2` (`1296`), can be easily accommodated, since the `int64` data type supports values up to `9223372036854775807` (@tbl-numpy-data-types)."
      ]
    },
    {
      "cell_type": "code",
      "metadata": {},
      "source": [
        "elev.astype(int)**2"
      ],
      "execution_count": null,
      "outputs": []
    },
    {
      "cell_type": "markdown",
      "metadata": {},
      "source": [
        "Now we get correct results.\n",
        "\n",
        "@fig-raster-local-operations demonstrates the result of the last two examples (`elev+elev` and `elev.astype(int)**2`), and two other ones (`np.log(elev)` and `elev>5`)."
      ]
    },
    {
      "cell_type": "code",
      "metadata": {},
      "source": [
        "#| label: fig-raster-local-operations\n",
        "#| fig-cap: 'Examples of different local operations of the elev raster object: adding two rasters, squaring, applying logarithmic transformation, and performing a logical operation.'\n",
        "#| layout-ncol: 4\n",
        "#| fig-subcap: \n",
        "#| - '`elev+elev`'\n",
        "#| - '`elev.astype(int)**2`'\n",
        "#| - '`np.log(elev)`'\n",
        "#| - '`elev>5`'\n",
        "rasterio.plot.show(elev + elev, cmap='Oranges');\n",
        "rasterio.plot.show(elev.astype(int)**2, cmap='Oranges');\n",
        "rasterio.plot.show(np.log(elev), cmap='Oranges');\n",
        "rasterio.plot.show(elev > 5, cmap='Oranges');"
      ],
      "execution_count": null,
      "outputs": []
    },
    {
      "cell_type": "markdown",
      "metadata": {},
      "source": [
        "Another good example of local operations is the classification of intervals of numeric values into groups such as grouping a digital elevation model into low (class `1`), middle (class `2`) and high (class `3`) elevations.\n",
        "Here, the raster values in the ranges `0`--`12`, `12`--`24`, and `24`--`36` are reclassified to take values `1`, `2`, and `3`, respectively."
      ]
    },
    {
      "cell_type": "code",
      "metadata": {},
      "source": [
        "recl = elev.copy()\n",
        "recl[(elev > 0)  & (elev <= 12)] = 1\n",
        "recl[(elev > 12) & (elev <= 24)] = 2\n",
        "recl[(elev > 24) & (elev <= 36)] = 3"
      ],
      "execution_count": null,
      "outputs": []
    },
    {
      "cell_type": "markdown",
      "metadata": {},
      "source": [
        "@fig-raster-reclassify compares the original `elev` raster with the reclassified `recl` one."
      ]
    },
    {
      "cell_type": "code",
      "metadata": {},
      "source": [
        "#| label: fig-raster-reclassify\n",
        "#| fig-cap: Reclassifying a continuous raster into three categories.\n",
        "#| layout-ncol: 2\n",
        "#| fig-subcap: \n",
        "#| - Original\n",
        "#| - Reclassified\n",
        "rasterio.plot.show(elev, cmap='Oranges');\n",
        "rasterio.plot.show(recl, cmap='Oranges');"
      ],
      "execution_count": null,
      "outputs": []
    },
    {
      "cell_type": "markdown",
      "metadata": {},
      "source": [
        "The calculation of the Normalized Difference Vegetation Index (NDVI)[^ndvi] is a well-known local (pixel-by-pixel) raster operation.\n",
        "It returns a raster with values between `-1` and `1`; positive values indicate the presence of living plants (mostly \\> `0.2`).\n",
        "NDVI is calculated from red and near-infrared (NIR) bands of remotely sensed imagery, typically from satellite systems such as Landsat or Sentinel-2.\n",
        "Vegetation absorbs light heavily in the visible light spectrum, and especially in the red channel, while reflecting NIR light, which is emulated in the NVDI formula (@eq-ndvi),\n",
        "\n",
        "[^ndvi]: [https://en.wikipedia.org/wiki/Normalized_difference_vegetation_index](https://en.wikipedia.org/wiki/Normalized_difference_vegetation_index)\n",
        "\n",
        "$$\n",
        "NDVI=\\frac{NIR-Red} {NIR+Red}\n",
        "$$ {#eq-ndvi}\n",
        "\n",
        ", where $NIR$ is the near-infrared band and $Red$ is the red band.\n",
        "\n",
        "Let's calculate NDVI for the multispectral Landsat satellite file (`landsat.tif`) of the Zion National Park.\n",
        "The file `landsat.tif` contains surface reflectance values (range `0`-`1`) in the blue, green, red, and near-infrared (NIR) bands.\n",
        "We start by reading the file and extracting the NIR and red bands, which are the fourth and third bands, respectively.\n",
        "Next, we apply the formula to calculate the NDVI values."
      ]
    },
    {
      "cell_type": "code",
      "metadata": {},
      "source": [
        "#| warning: false\n",
        "landsat = src_landsat.read()\n",
        "nir = landsat[3]\n",
        "red = landsat[2]\n",
        "ndvi = (nir-red)/(nir+red)"
      ],
      "execution_count": null,
      "outputs": []
    },
    {
      "cell_type": "markdown",
      "metadata": {},
      "source": [
        "When plotting an RGB image using the `rasterio.plot.show` function, the function assumes that values are in the range `[0,1]` for floats, or `[0,255]` for integers (otherwise clipped) and the order of bands is RGB.\n",
        "To prepare the multi-band raster for `rasterio.plot.show`, we, therefore, reverse the order of the first three bands (to go from B-G-R-NIR to R-G-B), using the `[:3]` slice to select the first three bands and then the `[::-1]` slice to reverse the bands order, and divide by the raster maximum to set the maximum value to `1`."
      ]
    },
    {
      "cell_type": "code",
      "metadata": {},
      "source": [
        "landsat_rgb = landsat[:3][::-1] / landsat.max()"
      ],
      "execution_count": null,
      "outputs": []
    },
    {
      "cell_type": "markdown",
      "metadata": {},
      "source": [
        "::: callout-note\n",
        "Python slicing notation, which **numpy**, **pandas** and **geopandas** also follow, is `object[start:stop:step]`. \n",
        "The default is to start from the beginning, go to the end, and use steps of `1`. \n",
        "Otherwise, `start` is inclusive and `end` is exclusive, whereas negative `step` values imply going backwards starting from the end. \n",
        "Also, always keep in mind that Python indices start from `0`.\n",
        "When subsetting two- or three-dimensional objects, indices for each dimension are separated by commas, where either index can be set to `:` meaning 'all values'.\n",
        "The last dimensions can also be omitted implying `:`, e.g., to subset the first three bands from a three-dimensional array `a` we can use either `a[:3,:,:]` or `a[:3]`.\n",
        "\n",
        "In the above example: \n",
        "\n",
        "* The slicing expression `[:3]` therefore means layers `0`, `1`, `2` (up to `3`, exclusive)\n",
        "* The slicing expression `[::-1]` therefore means all (three) bands in reverse order\n",
        ":::\n",
        "\n",
        "@fig-raster-ndvi shows the RGB image and the NDVI values calculated for the Landsat satellite image of the Zion National Park."
      ]
    },
    {
      "cell_type": "code",
      "metadata": {},
      "source": [
        "#| label: fig-raster-ndvi\n",
        "#| fig-cap: RGB image and NDVI values calculated for the Landsat satellite image of the Zion National Park\n",
        "#| layout-ncol: 2\n",
        "#| fig-subcap: \n",
        "#| - RGB image\n",
        "#| - NDVI\n",
        "rasterio.plot.show(landsat_rgb, cmap='RdYlGn');\n",
        "rasterio.plot.show(ndvi, cmap='Greens');"
      ],
      "execution_count": null,
      "outputs": []
    },
    {
      "cell_type": "markdown",
      "metadata": {},
      "source": [
        "### Focal operations {#sec-focal-operations}\n",
        "\n",
        "While local functions operate on one cell at a time (though possibly from multiple layers), focal operations take into account a central (focal) cell and its neighbors.\n",
        "The neighborhood (also named kernel, filter, or moving window) under consideration is typically of $3 \\times 3$ cells (that is, the central cell and its eight surrounding neighbors), but can take on any other (not necessarily rectangular) shape as defined by the user.\n",
        "A focal operation applies an aggregation function to all cells within the specified neighborhood, uses the corresponding output as the new value for the central cell, and moves on to the next central cell (@fig-focal-filter).\n",
        "Other names for this operation are spatial filtering and convolution [@burrough_principles_2015].\n",
        "\n",
        "![Input raster (left) and resulting output raster (right) due to a focal operation---finding the minimum value in $3 \\times 3$ moving windows.](images/04_focal_example.png){#fig-focal-filter}\n",
        "\n",
        "In Python, the **scipy.ndimage** [@scipy] package has a comprehensive collection of functions to perform filtering of **numpy** arrays, such as:\n",
        "\n",
        "-   `scipy.ndimage.minimum_filter`,\n",
        "-   `scipy.ndimage.maximum_filter`,\n",
        "-   `scipy.ndimage.uniform_filter` (i.e., mean filter),\n",
        "-   `scipy.ndimage.median_filter`, etc.\n",
        "\n",
        "In this group of functions, we define the shape of the moving window with either one of `size`---a single number (e.g., `3`), or tuple (e.g., `(3,3)`), implying a filter of those dimensions, or `footprint`---a boolean array, representing both the window shape and the identity of elements being included.\n",
        "\n",
        "In addition to specific built-in filters, `convolve`---applies the sum function after multiplying by a custom `weights` array, and `generic_filter`---makes it possible to pass any custom function, where the user can specify any type of custom window-based calculation.\n",
        "\n",
        "For example, here we apply the minimum filter with window size of `3` on `elev`.\n",
        "As a result, we now have a new array `elev_min`, where each value is the minimum in the corresponding $3 \\times 3$ neighborhood in `elev`."
      ]
    },
    {
      "cell_type": "code",
      "metadata": {},
      "source": [
        "elev_min = scipy.ndimage.minimum_filter(elev, size=3)\n",
        "elev_min"
      ],
      "execution_count": null,
      "outputs": []
    },
    {
      "cell_type": "markdown",
      "metadata": {},
      "source": [
        "Special care should be given to the edge pixels -- how should they be calculated?\n",
        "The **scipy.ndimage** filtering functions give several options through the `mode` parameter (see the documentation of any filtering function, such as `scipy.ndimage.median_filter`, for the definition of each mode): `reflect` (the default), `constant`, `nearest`, `mirror`, `wrap`.\n",
        "Sometimes artificially extending raster edges is considered unsuitable.\n",
        "In other words, we may wish the resulting raster to contain pixel values with 'complete' windows only, for example, to have a uniform sample size or because values in all directions matter (such as in topographic calculations).\n",
        "There is no specific option *not* to extend edges in **scipy.ndimage**.\n",
        "However, to get the same effect, the edges of the filtered array can be assigned with `np.nan`, in a number of rows and columns according to filter size.\n",
        "For example, when using a filter of `size=3`, the outermost 'layer' of pixels may be assigned with `np.nan`, reflecting the fact that these pixels have incomplete $3 \\times 3$ neighborhoods (@fig-focal-filter):"
      ]
    },
    {
      "cell_type": "code",
      "metadata": {},
      "source": [
        "elev_min = elev_min.astype(float)\n",
        "elev_min[:, [0, -1]] = np.nan\n",
        "elev_min[[0, -1], :] = np.nan\n",
        "elev_min"
      ],
      "execution_count": null,
      "outputs": []
    },
    {
      "cell_type": "markdown",
      "metadata": {},
      "source": [
        "We can quickly check if the output meets our expectations.\n",
        "In our example, the minimum value has to be always the upper left corner of the moving window (remember we have created the input raster by row-wise incrementing the cell values by one starting at the upper left corner).\n",
        "\n",
        "Focal functions or filters play a dominant role in image processing.\n",
        "For example, low-pass or smoothing filters use the mean function to remove extremes.\n",
        "By contrast, high-pass filters, often created with custom neighborhood weights, accentuate features.\n",
        "\n",
        "In the case of categorical data, we can replace the mean with the mode, i.e., the most common value.\n",
        "To demonstrate applying a mode filter, let's read the small sample categorical raster `grain.tif`."
      ]
    },
    {
      "cell_type": "code",
      "metadata": {},
      "source": [
        "grain = src_grain.read(1)\n",
        "grain"
      ],
      "execution_count": null,
      "outputs": []
    },
    {
      "cell_type": "markdown",
      "metadata": {},
      "source": [
        "There is no built-in filter function for a mode filter in **scipy.ndimage**, but we can use the `scipy.ndimage.generic_filter` function along with a custom filtering function, internally utilizing `scipy.stats.mode`. "
      ]
    },
    {
      "cell_type": "code",
      "metadata": {},
      "source": [
        "grain_mode = scipy.ndimage.generic_filter(\n",
        "    grain, \n",
        "    lambda x: scipy.stats.mode(x.flatten())[0], \n",
        "    size=3\n",
        ")\n",
        "grain_mode = grain_mode.astype(float)\n",
        "grain_mode[:, [0, -1]] = np.nan\n",
        "grain_mode[[0, -1], :] = np.nan\n",
        "grain_mode"
      ],
      "execution_count": null,
      "outputs": []
    },
    {
      "cell_type": "markdown",
      "metadata": {},
      "source": [
        "::: callout-note\n",
        "`scipy.stats.mode` is a function to summarize array values, returning the mode (most common value). It is analogous to **numpy** summary functions and methods, such as `.mean` or `.max`. **numpy** itself does not provide the *mode* function, however, which is why we use **scipy** for that.\n",
        ":::\n",
        "\n",
        "Terrain processing is another important application of focal operations.\n",
        "Such functions are provided by multiple Python packages, including the general purpose **xarray** package, and more specialized packages such as **richdem** and **pysheds**.\n",
        "Useful terrain metrics include:\n",
        "\n",
        "-   Slope, measured in units of percent, degreees, or radians [@horn_1981]\n",
        "-   Aspect, meaning each cell's downward slope direction [@horn_1981]\n",
        "-   Slope curvature, including 'planform' and 'profile' curvature [@zevenbergen_1987]\n",
        "\n",
        "For example, each of these, and other, terrain metrics can be computed with the **richdem** package.\n",
        "\n",
        "::: callout-note\n",
        "Terrain metrics are essentially focal filters with customized functions. \n",
        "Using `scipy.ndimage.generic_filter`, along with such custom functions, is an option for those who would like to calculate terrain metric through coding by hand and/or limiting their code dependencies.\n",
        "For example, the *How Aspect works*[^how_aspect_works] and *How Slope works*[^how_slope_works] pages from the ArcGIS Pro documentation provide explanations and formulas of the required functions for aspect and slope metrics (@fig-raster-slope), respectively, which can be translated to **numpy**-based functions to be used in `scipy.ndimage.generic_filter` to calculate those metrics.\n",
        ":::\n",
        "\n",
        "[^how_aspect_works]: [https://pro.arcgis.com/en/pro-app/latest/tool-reference/spatial-analyst/how-aspect-works.htm](https://pro.arcgis.com/en/pro-app/latest/tool-reference/spatial-analyst/how-aspect-works.htm)\n",
        "\n",
        "[^how_slope_works]: [https://pro.arcgis.com/en/pro-app/latest/tool-reference/spatial-analyst/how-slope-works.htm](https://pro.arcgis.com/en/pro-app/latest/tool-reference/spatial-analyst/how-slope-works.htm)\n",
        "\n",
        "Another extremely fast, memory-efficient, and concise, alternative, is to the use the GDAL program called `gdaldem`.\n",
        "`gdaldem` can be used to calculate slope, aspect, and other terrain metrics through a single command, accepting an input file path and exporting the result to a new file.\n",
        "This is our first example in the book where we demonstrate a situation where it may be worthwhile to leave the Python environment, and utilize a GDAL program directly, rather than through their wrappers (such as **rasterio** and other Python packages), whether to access a computational algorithm not easily accessible in a Python package, or for GDAL's memory-efficiency and speed benefits.\n",
        "\n",
        "::: callout-note\n",
        "GDAL contains a collection of over 40 programs, mostly aimed at raster processing. These include programs for fundamental operations, such as:\n",
        "\n",
        "* `gdal_translate`---convert between raster file formats\n",
        "* `gdalwarp`---raster reprojection\n",
        "* `gdal_rasterize`---rasterize vector features\n",
        "* `gdal_merge.py`---raster mosaic \n",
        "\n",
        "In this book, we use **rasterio** for the above-mentioned operations, although the GDAL programs are a good alternative for those who are more comfortable with the command line. However, we do use two GDAL programs for tasks that are lacking in **rasterio** and not well-implemented in other Python packages: `gdaldem` (this section), and `gdal_contour` (@sec-raster-to-contours).\n",
        ":::\n",
        "\n",
        "GDAL, along with all of its programs should be available in your Python environment, since GDAL is a dependency of **rasterio**.\n",
        "The following example, which should be run from the command line, takes the `srtm_32612.tif` raster (which we are going to create in @sec-reprojecting-raster-geometries, therefore it is in the `'output'` directory), calculates slope (in decimal degrees, between `0` and `90`), and exports the result to a new file `srtm_32612_slope.tif`.\n",
        "Note that the arguments of `gdaldem` are the metric name (`slope`), then the input file path, and finally the output file path."
      ]
    },
    {
      "cell_type": "code",
      "metadata": {},
      "source": [
        "#| eval: false\n",
        "os.system('gdaldem slope output/srtm_32612.tif output/srtm_32612_slope.tif')"
      ],
      "execution_count": null,
      "outputs": []
    },
    {
      "cell_type": "markdown",
      "metadata": {},
      "source": [
        "Here we ran the `gdaldem` command through `os.system`, in order to remain in the Python environment, even though we are calling an external program.\n",
        "Alternatively, you can run the standalone command in the command line interface you are using, such as the Anaconda Prompt:\n",
        "\n",
        "```{sh}\n",
        "gdaldem slope output/srtm_32612.tif output/srtm_32612_slope.tif\n",
        "```\n",
        "\n",
        "Replacing the metric name, we can calculate other terrain properties.\n",
        "For example, here is how we can calculate an aspect raster `srtm_32612_aspect.tif`, also in degrees (between `0` and `360`)."
      ]
    },
    {
      "cell_type": "code",
      "metadata": {},
      "source": [
        "#| eval: false\n",
        "os.system('gdaldem aspect output/srtm_32612.tif output/srtm_32612_aspect.tif')"
      ],
      "execution_count": null,
      "outputs": []
    },
    {
      "cell_type": "markdown",
      "metadata": {},
      "source": [
        "@fig-raster-slope shows the results, using our more familiar plotting methods from **rasterio**.\n",
        "The code section is relatively long due to the workaround to create a color key (see @sec-plot-symbology) and removing 'No Data' flag values from the arrays so that the color key does not include them. Also note that we are using one of **matplotlib**'s the cyclic color scales (`'twilight'`) when plotting aspect (@fig-raster-slope (c))."
      ]
    },
    {
      "cell_type": "code",
      "metadata": {},
      "source": [
        "#| label: fig-raster-slope\n",
        "#| fig-cap: Slope and aspect calculation from a DEM\n",
        "#| layout-ncol: 3\n",
        "#| fig-subcap: \n",
        "#| - Input DEM\n",
        "#| - Slope (degrees)\n",
        "#| - Aspect (degrees)\n",
        "# Input DEM\n",
        "src_srtm = rasterio.open('output/srtm_32612.tif')\n",
        "srtm = src_srtm.read(1).astype(float)\n",
        "srtm[srtm == src_srtm.nodata] = np.nan\n",
        "fig, ax = plt.subplots()\n",
        "rasterio.plot.show(src_srtm, cmap='Spectral_r', ax=ax)\n",
        "fig.colorbar(ax.imshow(srtm, cmap='Spectral_r'), ax=ax);\n",
        "# Slope\n",
        "src_srtm_slope = rasterio.open('output/srtm_32612_slope.tif')\n",
        "srtm_slope = src_srtm_slope.read(1)\n",
        "srtm_slope[srtm_slope == src_srtm_slope.nodata] = np.nan\n",
        "fig, ax = plt.subplots()\n",
        "rasterio.plot.show(src_srtm_slope, cmap='Spectral_r', ax=ax)\n",
        "fig.colorbar(ax.imshow(srtm_slope, cmap='Spectral_r'), ax=ax);\n",
        "# Aspect\n",
        "src_srtm_aspect = rasterio.open('output/srtm_32612_aspect.tif')\n",
        "srtm_aspect = src_srtm_aspect.read(1)\n",
        "srtm_aspect[srtm_aspect == src_srtm_aspect.nodata] = np.nan\n",
        "fig, ax = plt.subplots()\n",
        "rasterio.plot.show(src_srtm_aspect, cmap='twilight', ax=ax)\n",
        "fig.colorbar(ax.imshow(srtm_aspect, cmap='twilight'), ax=ax);"
      ],
      "execution_count": null,
      "outputs": []
    },
    {
      "cell_type": "markdown",
      "metadata": {},
      "source": [
        "### Zonal operations {#sec-zonal-operations}\n",
        "\n",
        "Just like focal operations, zonal operations apply an aggregation function to multiple raster cells.\n",
        "However, a second raster, usually with categorical values, defines the zonal filters (or 'zones') in the case of zonal operations, as opposed to a predefined neighborhood window in the case of focal operation presented in the previous section.\n",
        "Consequently, raster cells defining the zonal filter do not necessarily have to be neighbors.\n",
        "Our `grain.tif` raster is a good example, as illustrated in @fig-rasterio-plot-grain: different grain sizes are spread irregularly throughout the raster.\n",
        "Finally, the result of a zonal operation is a summary table grouped by zone, which is why this operation is also known as zonal statistics in the GIS world.\n",
        "This is in contrast to focal operations (@sec-focal-operations) which return a raster object.\n",
        "\n",
        "To demonstrate, let's get back to the `grain.tif` and `elev.tif` rasters.\n",
        "To calculate zonal statistics, we use the arrays with raster values, which we already imported earlier.\n",
        "Our intention is to calculate the average (or any other summary function, for that matter) of *elevation* in each zone defined by *grain* values.\n",
        "To do that, first we first obtain the unique values defining the zones using `np.unique`."
      ]
    },
    {
      "cell_type": "code",
      "metadata": {},
      "source": [
        "np.unique(grain)"
      ],
      "execution_count": null,
      "outputs": []
    },
    {
      "cell_type": "markdown",
      "metadata": {},
      "source": [
        "Now, we can use dictionary comprehension (see note below) to split the `elev` array into separate one-dimensional arrays with values per `grain` group, with keys being the unique `grain` values."
      ]
    },
    {
      "cell_type": "code",
      "metadata": {},
      "source": [
        "z = {i: elev[grain == i] for i in np.unique(grain)}\n",
        "z"
      ],
      "execution_count": null,
      "outputs": []
    },
    {
      "cell_type": "markdown",
      "metadata": {},
      "source": [
        "::: callout-note\n",
        "*List comprehension* and *dictionary comprehension* are concise ways to create a `list` or a `dict`, respectively, from an iterable object.\n",
        "Both are, conceptually, a concise syntax to replace `for` loops where we iterate over an object and return a same-length object with the results.\n",
        "Here are minimal examples of list and dictionary comprehension, respectively, to demonstrate the idea:\n",
        "\n",
        "* `[i**2 for i in [2,4,6]]`---Returns `[4,16,36]`\n",
        "* `{i: i**2 for i in [2,4,6]}`---Returns `{2:4, 4:16, 6:36}`\n",
        "\n",
        "List comprehension is more commonly encountered in practice. We use it in @sec-subsetting-vs-clipping, @sec-rasterizing-lines-and-polygons, @sec-raster-to-polygons, and @sec-distance-to-nearest-geometry. Dictionary comprehension is only used in one place in the book (this section).\n",
        ":::\n",
        "\n",
        "At this stage, we can expand the dictionary comprehension expression to calculate the mean elevation associated with each grain size class.\n",
        "Namely, instead of placing the elevation values (`elev[grain==i]`) into the dictionary values, we place their (rounded) mean (`elev[grain==i].mean().round(1)`)."
      ]
    },
    {
      "cell_type": "code",
      "metadata": {},
      "source": [
        "z = {i: elev[grain == i].mean().round(1) for i in np.unique(grain)}\n",
        "z"
      ],
      "execution_count": null,
      "outputs": []
    },
    {
      "cell_type": "markdown",
      "metadata": {},
      "source": [
        "This returns the statistics for each category, here the mean elevation for each grain size class.\n",
        "For example, the mean elevation in pixels characterized by grain size `0` is `14.8`, and so on.\n",
        "\n",
        "### Global operations and distances {#sec-global-operations-and-distances}\n",
        "\n",
        "Global operations are a special case of zonal operations with the entire raster dataset representing a single zone.\n",
        "The most common global operations are descriptive statistics for the entire raster dataset such as the minimum or maximum---we already discussed those in @sec-summarizing-raster-objects.\n",
        "\n",
        "Aside from that, global operations are also useful for the computation of distance and weight rasters.\n",
        "In the first case, one can calculate the distance from each cell to specific target cells or vector geometries.\n",
        "For example, one might want to compute the distance to the nearest coast (see @sec-distance-to-nearest-geometry).\n",
        "We might also want to consider topography, that means, we are not only interested in the pure distance but would like also to avoid the crossing of mountain ranges when going to the coast.\n",
        "To do so, we can weight the distance with elevation so that each additional altitudinal meter 'prolongs' the Euclidean distance (this is beyond the scope of the book).\n",
        "Visibility and viewshed computations also belong to the family of global operations (also beyond the scope of the book).\n",
        "\n",
        "### Map algebra counterparts in vector processing\n",
        "\n",
        "Many map algebra operations have a counterpart in vector processing [@liu_essential_2009].\n",
        "Computing a distance raster (global operation) while only considering a maximum distance (logical focal operation) is the equivalent of a vector buffer operation (@sec-buffers).\n",
        "Reclassifying raster data (either local or zonal function depending on the input) is equivalent to dissolving vector data (@sec-geometry-unions).\n",
        "Overlaying two rasters (local operation), where one contains 'No Data' values representing a mask, is similar to vector clipping (Section @sec-clipping).\n",
        "Quite similar to spatial clipping is intersecting two layers (@sec-spatial-subsetting-vector, @sec-joining-incongruent-layers).\n",
        "The difference is that these two layers (vector or raster) simply share an overlapping area.\n",
        "However, be careful with the wording.\n",
        "Sometimes the same words have slightly different meanings for raster and vector data models.\n",
        "While aggregating polygon geometries means dissolving boundaries, for raster data geometries it means increasing cell sizes and thereby reducing spatial resolution.\n",
        "Zonal operations dissolve the cells of one raster in accordance with the zones (categories) of another raster dataset using an aggregating function.\n",
        "\n",
        "### Merging rasters {#sec-merging-rasters}\n",
        "\n",
        "Suppose we would like to compute the NDVI (see @sec-raster-local-operations), and additionally want to compute terrain attributes from elevation data for observations within a study area.\n",
        "Such computations rely on remotely sensed information.\n",
        "The corresponding source imagery is often divided into scenes covering a specific spatial extent (i.e., tiles), and frequently, a study area covers more than one scene.\n",
        "Then, we would need to merge (also known as mosaic) the scenes covering our study area.\n",
        "In case when all scenes are aligned (i.e., share the same origin and resolution), this can be thought of as simply gluing them into one big raster; otherwise, all scenes need to be resampled (see @sec-raster-resampling) to the same grid (e.g., the one defined by the first scene).\n",
        "\n",
        "For example, let's merge digital elevation data from two SRTM elevation tiles, for Austria (`'aut.tif'`) and Switzerland (`'ch.tif'`).\n",
        "Merging can be done using function `rasterio.merge.merge`, which accepts a `list` of raster file connections, and returns the new `ndarray` and the corresponding transform object, representing the resulting mosaic."
      ]
    },
    {
      "cell_type": "code",
      "metadata": {},
      "source": [
        "src_1 = rasterio.open('data/aut.tif')\n",
        "src_2 = rasterio.open('data/ch.tif')\n",
        "out_image, out_transform = rasterio.merge.merge([src_1, src_2])"
      ],
      "execution_count": null,
      "outputs": []
    },
    {
      "cell_type": "markdown",
      "metadata": {},
      "source": [
        "::: callout-note\n",
        "Some Python packages (such as `rasterio`) are split into several so-called sub-modules. \n",
        "The sub-modules are installed collectively when installing the main package.\n",
        "However, each sub-module needs to be loaded separately to be able to use its functions. \n",
        "For example, the `rasterio.merge.merge` function (see last code block) comes from the `rasterio.merge` sub-module of `rasterio`.\n",
        "Loading `rasterio` with `import rasterio` does not expose the `rasterio.merge.merge` function; instead, we have to load `rasterio.merge` with `import rasterio.merge`, and only then use `rasterio.merge.merge`. \n",
        "\n",
        "Also check out the first code block in this chapter, where we load `rasterio` as well as three sub-modules: `rasterio.plot`, `rasterio.merge`, and `rasterio.features`.\n",
        ":::\n",
        "\n",
        "@fig-raster-merge shows both inputs and the resulting mosaic."
      ]
    },
    {
      "cell_type": "code",
      "metadata": {},
      "source": [
        "#| label: fig-raster-merge\n",
        "#| fig-cap: Raster merging\n",
        "#| layout-ncol: 3\n",
        "#| fig-subcap: \n",
        "#| - '`aut.tif`'\n",
        "#| - '`ch.tif`'\n",
        "#| - Mosaic (`aut.tif`+`ch.tif`)\n",
        "rasterio.plot.show(src_1);\n",
        "rasterio.plot.show(src_2);\n",
        "rasterio.plot.show(out_image, transform=out_transform);"
      ],
      "execution_count": null,
      "outputs": []
    },
    {
      "cell_type": "markdown",
      "metadata": {},
      "source": [
        "By default in `rasterio.merge.merge`, areas of overlap retain the value of the *first* raster (`method='first'`).\n",
        "Other possible methods are:\n",
        "\n",
        "-   `'last'`---Value of the last raster\n",
        "-   `'min'`---Minimum value\n",
        "-   `'max'`---Maximum value\n",
        "\n",
        "When dealing with non-overlapping tiles, such as `aut.tif` and `ch.tif` (above), the `method` argument has no practical effect.\n",
        "However, it becomes relevant when we want to combine spectral imagery from scenes that were taken on different dates.\n",
        "The above four options for `method` do not cover the commonly required scenario when we would like to compute the *mean* value---for example to calculate a seasonal average NDVI image from a set of partially overlapping satellite images (such as Landsat).\n",
        "An alternative workflow to `rasterio.merge.merge`, for calculating a mosaic as well as averaging any overlaps, is to go through two steps:\n",
        "\n",
        "-   Resampling all scenes into a common 'global' grid (@sec-raster-resampling), thereby producing a series of matching rasters (with the area surrounding each scene set as 'No Data')\n",
        "-   Averaging the rasters through raster algebra (@sec-raster-local-operations), using `np.mean(m,axis=0)` or `np.nanmean(m,axis=0)` (depending whether we prefer to ignore 'No Data' or not), where `m` is the multi-band array, which would return a single-band array of averages\n",
        "\n",
        "<!-- ## Exercises\n",
        "\n",
        "-   Write a function which accepts and array and an `int` specifying the number of rows/columns to erase along an array edges. The function needs to return the modified array with `np.nan` values along its edges. -->\n"
      ]
    }
  ],
  "metadata": {
    "kernelspec": {
      "display_name": "Python 3",
      "language": "python",
      "name": "python3"
    }
  },
  "nbformat": 4,
  "nbformat_minor": 4
}