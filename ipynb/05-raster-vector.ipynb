{
  "cells": [
    {
      "cell_type": "markdown",
      "metadata": {},
      "source": [
        "# Raster-vector interactions {#sec-raster-vector}\n",
        "\n",
        "## Prerequisites {.unnumbered}"
      ]
    },
    {
      "cell_type": "code",
      "metadata": {},
      "source": [
        "#| echo: false\n",
        "import matplotlib.pyplot as plt\n",
        "import pandas as pd\n",
        "pd.options.display.max_rows = 6\n",
        "pd.options.display.max_columns = 6\n",
        "pd.options.display.max_colwidth = 35\n",
        "plt.rcParams['figure.figsize'] = (5, 5)"
      ],
      "execution_count": null,
      "outputs": []
    },
    {
      "cell_type": "markdown",
      "metadata": {},
      "source": [
        "This chapter requires importing the following packages:\n",
        "<!--jn:two packages are commented out -- should these lines be removed?-->\n",
        "<!--md: yes, done-->"
      ]
    },
    {
      "cell_type": "code",
      "metadata": {},
      "source": [
        "import os\n",
        "import math\n",
        "import numpy as np\n",
        "import matplotlib.pyplot as plt\n",
        "import shapely\n",
        "import geopandas as gpd\n",
        "import rasterio\n",
        "import rasterio.plot\n",
        "import rasterio.mask\n",
        "import rasterio.features\n",
        "import rasterstats"
      ],
      "execution_count": null,
      "outputs": []
    },
    {
      "cell_type": "markdown",
      "metadata": {},
      "source": [
        "It also relies on the following data files:"
      ]
    },
    {
      "cell_type": "code",
      "metadata": {},
      "source": [
        "src_srtm = rasterio.open('data/srtm.tif')\n",
        "src_nlcd = rasterio.open('data/nlcd.tif')\n",
        "src_grain = rasterio.open('output/grain.tif')\n",
        "src_elev = rasterio.open('output/elev.tif')\n",
        "src_dem = rasterio.open('data/dem.tif')\n",
        "zion = gpd.read_file('data/zion.gpkg')\n",
        "zion_points = gpd.read_file('data/zion_points.gpkg')\n",
        "cycle_hire_osm = gpd.read_file('data/cycle_hire_osm.gpkg')\n",
        "us_states = gpd.read_file('data/us_states.gpkg')\n",
        "nz = gpd.read_file('data/nz.gpkg')\n",
        "src_nz_elev = rasterio.open('data/nz_elev.tif')"
      ],
      "execution_count": null,
      "outputs": []
    },
    {
      "cell_type": "markdown",
      "metadata": {},
      "source": [
        "## Introduction\n",
        "\n",
        "This chapter focuses on interactions between raster and vector geographic data models, both introduced in @sec-spatial-class.\n",
        "It includes four main techniques:\n",
        "\n",
        "-   Raster cropping and masking using vector objects (@sec-raster-cropping)\n",
        "-   Extracting raster values using different types of vector data (Section @sec-raster-extraction)\n",
        "-   Raster-vector conversion (@sec-rasterization and @sec-spatial-vectorization)\n",
        "\n",
        "These concepts are demonstrated using data from in previous chapters, to understand their potential real-world applications.\n",
        "\n",
        "## Raster masking and cropping {#sec-raster-cropping}\n",
        "\n",
        "Many geographic data projects involve integrating data from many different sources, such as remote sensing images (rasters) and administrative boundaries (vectors).\n",
        "Often the extent of input raster datasets is larger than the area of interest.\n",
        "In this case raster *masking*, *cropping*, or both, are useful for unifying the spatial extent of input data (@fig-raster-crop (b) and (c), and the following two examples, illustrate the difference between masking and cropping).\n",
        "Both operations reduce object memory use and associated computational resources for subsequent analysis steps, and may be a necessary preprocessing step before creating attractive maps involving raster data.\n",
        "\n",
        "We will use two layers to illustrate raster cropping:\n",
        "\n",
        "-   The `srtm.tif` raster representing elevation, in meters above sea level, in south-western Utah: a **rasterio** file connection named `src_srtm` (see @fig-raster-crop (a))\n",
        "-   The `zion.gpkg` vector layer representing the Zion National Park boundaries (a `GeoDataFrame` named `zion`)\n",
        "\n",
        "Both target and cropping objects must have the same projection.\n",
        "Since it is easier and more precise to reproject vector layers, compared to rasters, we use the following expression to reproject (@sec-reprojecting-vector-geometries) the vector layer `zion` into the CRS of the raster `src_srtm`.\n",
        "<!-- jn: maybe reference to the CRS section/chapter -->\n",
        "<!-- md: done -->"
      ]
    },
    {
      "cell_type": "code",
      "metadata": {},
      "source": [
        "zion = zion.to_crs(src_srtm.crs)"
      ],
      "execution_count": null,
      "outputs": []
    },
    {
      "cell_type": "markdown",
      "metadata": {},
      "source": [
        "To mask the image, i.e., convert all pixels which do not intersect with the `zion` polygon to \"No Data\", we use the [`rasterio.mask.mask`](https://rasterio.readthedocs.io/en/stable/api/rasterio.mask.html#rasterio.mask.mask) function.\n"
      ]
    },
    {
      "cell_type": "code",
      "metadata": {},
      "source": [
        "out_image_mask, out_transform_mask = rasterio.mask.mask(\n",
        "    src_srtm, \n",
        "    zion.geometry, \n",
        "    crop=False, \n",
        "    nodata=9999\n",
        ")"
      ],
      "execution_count": null,
      "outputs": []
    },
    {
      "cell_type": "markdown",
      "metadata": {},
      "source": [
        "Note that we need to choose and specify a \"No Data\" value, within the valid range according to the data type.\n",
        "Since `srtm.tif` is of type `uint16` (how can we check?), we choose `9999` (a positive integer that is guaranteed not to occur in the raster).\n",
        "Also note that **rasterio** does not directly support **geopandas** data structures, so we need to pass a \"collection\" of **shapely** geometries: a `GeoSeries` (see above) or a `list` of **shapely** geometries (see next example) both work.\n",
        "<!-- jn: (see below) or (see above) -->\n",
        "<!-- md: thanks, this was a mistake - now corrected -->\n",
        "The output consists of two objects.\n",
        "The first one is the `out_image` array with the masked values."
      ]
    },
    {
      "cell_type": "code",
      "metadata": {},
      "source": [
        "out_image_mask"
      ],
      "execution_count": null,
      "outputs": []
    },
    {
      "cell_type": "markdown",
      "metadata": {},
      "source": [
        "The second one is a new transformation matrix `out_transform`."
      ]
    },
    {
      "cell_type": "code",
      "metadata": {},
      "source": [
        "out_transform_mask"
      ],
      "execution_count": null,
      "outputs": []
    },
    {
      "cell_type": "markdown",
      "metadata": {},
      "source": [
        "Note that masking (without cropping!) does not modify the raster extent.\n",
        "Therefore, the new transform is identical to the original (`src_srtm.transform`).\n",
        "\n",
        "Unfortunately, the `out_image` and `out_transform` objects do not contain any information indicating that `9999` represents \"No Data\".\n",
        "To associate the information with the raster, we must write it to file along with the corresponding metadata.\n",
        "For example, to write the masked raster to file, we first need to modify the \"No Data\" setting in the metadata."
      ]
    },
    {
      "cell_type": "code",
      "metadata": {},
      "source": [
        "dst_kwargs = src_srtm.meta\n",
        "dst_kwargs.update(nodata=9999)\n",
        "dst_kwargs"
      ],
      "execution_count": null,
      "outputs": []
    },
    {
      "cell_type": "markdown",
      "metadata": {},
      "source": [
        "Then we can write the masked raster to file with the updated metadata object."
      ]
    },
    {
      "cell_type": "code",
      "metadata": {},
      "source": [
        "new_dataset = rasterio.open('output/srtm_masked.tif', 'w', **dst_kwargs)\n",
        "new_dataset.write(out_image_mask)\n",
        "new_dataset.close()"
      ],
      "execution_count": null,
      "outputs": []
    },
    {
      "cell_type": "markdown",
      "metadata": {},
      "source": [
        "Now we can re-import the raster and check that the \"No Data\" value is correctly set."
      ]
    },
    {
      "cell_type": "code",
      "metadata": {},
      "source": [
        "src_srtm_mask = rasterio.open('output/srtm_masked.tif')"
      ],
      "execution_count": null,
      "outputs": []
    },
    {
      "cell_type": "markdown",
      "metadata": {},
      "source": [
        "The `.meta` property contains the `nodata` entry.\n",
        "Now, any relevant operation (such as plotting, see @fig-raster-crop (b)) will take \"No Data\" into account."
      ]
    },
    {
      "cell_type": "code",
      "metadata": {},
      "source": [
        "src_srtm_mask.meta"
      ],
      "execution_count": null,
      "outputs": []
    },
    {
      "cell_type": "markdown",
      "metadata": {},
      "source": [
        "The related operation, cropping, reduces the raster extent to the extent of the vector layer:\n",
        "\n",
        "-   To just crop, *without* masking, we can derive the bounding box polygon of the vector layer, and then crop using that polygon, also combined with `crop=True` (@fig-raster-crop (c))\n",
        "-   To crop *and* mask, we can use `rasterio.mask.mask`, same as above for masking, just setting `crop=True` instead of the default `crop=False` (@fig-raster-crop (d))\n",
        "\n",
        "For the example of cropping only, the extent polygon of `zion` can be obtained as a `shapely` geometry object using the `.unary_union.envelope` property(@fig-zion-bbox)."
      ]
    },
    {
      "cell_type": "code",
      "metadata": {},
      "source": [
        "#| label: fig-zion-bbox\n",
        "#| fig-cap: Bounding box `'Polygon'` geometry of the `zion` layer\n",
        "bb = zion.unary_union.envelope\n",
        "bb"
      ],
      "execution_count": null,
      "outputs": []
    },
    {
      "cell_type": "markdown",
      "metadata": {},
      "source": [
        "The extent can now be used for masking.\n",
        "Here, we are also using the `all_touched=True` option so that pixels partially overlapping with the extent are also included in the output."
      ]
    },
    {
      "cell_type": "code",
      "metadata": {},
      "source": [
        "out_image_crop, out_transform_crop = rasterio.mask.mask(\n",
        "    src_srtm, \n",
        "    [bb], \n",
        "    crop=True, \n",
        "    all_touched=True, \n",
        "    nodata=9999\n",
        ")"
      ],
      "execution_count": null,
      "outputs": []
    },
    {
      "cell_type": "markdown",
      "metadata": {},
      "source": [
        "In the case of cropping, there is no particular reason to write the result to file for easier plotting, such as in the other two examples, since there are no \"No Data\" values (@fig-raster-crop (c)).\n",
        "\n",
        "::: callout-note\n",
        "As mentioned above, **rasterio** functions typically accept vector geometries in the form of `lists` of `shapely` objects. `GeoSeries` are conceptually very similar, and also accepted. However, even an individual geometry has to be in a `list`, which is why we pass `[bb]`, and not `bb`, in the above `rasterio.mask.mask` function call (the latter would raise an error).\n",
        ":::\n",
        "\n",
        "<!-- jn: why [bb] and not bb? -->\n",
        "<!-- md: thanks, now added an explanation -->\n",
        "Finally, the third example is where we perform crop both and mask operations, using `rasterio.mask.mask` with `crop=True`.\n",
        "\n",
        "<!-- jn: why? -->\n",
        "<!-- md: this is not documented as much as I can tell: https://rasterio.readthedocs.io/en/latest/api/rasterio.mask.html, subjectively I'd say it's because the input is a file connection, which can be either single- or multi-band, therefore to make the function behavior uniform the output is always multi-band. I'm not sure we should write that though, will be happy to hear what you think -->\n",
        "<!-- jn: maybe split the code below into two chunks and describe them separately...? -->\n",
        "<!-- md: good idea, done -->"
      ]
    },
    {
      "cell_type": "code",
      "metadata": {},
      "source": [
        "out_image_mask_crop, out_transform_mask_crop = rasterio.mask.mask(\n",
        "    src_srtm, \n",
        "    zion.geometry, \n",
        "    crop=True, \n",
        "    nodata=9999\n",
        ")"
      ],
      "execution_count": null,
      "outputs": []
    },
    {
      "cell_type": "markdown",
      "metadata": {},
      "source": [
        "When writing the result to file, it is here crucial to update the transform and dimensions, since they were modified as a result of cropping.\n",
        "Also note that `out_image_mask_crop` is a three-dimensional array (even though it has one band in this case), so the number of rows and columns are in `.shape[1]` and `.shape[2]` (rather than `.shape[0]` and `.shape[1]`), respectively."
      ]
    },
    {
      "cell_type": "code",
      "metadata": {},
      "source": [
        "dst_kwargs = src_srtm.meta\n",
        "dst_kwargs.update({\n",
        "    'nodata': 9999,\n",
        "    'transform': out_transform_mask_crop,\n",
        "    'width': out_image_mask_crop.shape[2],\n",
        "    'height': out_image_mask_crop.shape[1]\n",
        "})\n",
        "new_dataset = rasterio.open(\n",
        "    'output/srtm_masked_cropped.tif', \n",
        "    'w', \n",
        "    **dst_kwargs\n",
        ")\n",
        "new_dataset.write(out_image_mask_crop)\n",
        "new_dataset.close()"
      ],
      "execution_count": null,
      "outputs": []
    },
    {
      "cell_type": "markdown",
      "metadata": {},
      "source": [
        "Let's also create a file connection to the newly created file `srtm_masked_cropped.tif` in order to plot it (@fig-raster-crop (d))."
      ]
    },
    {
      "cell_type": "code",
      "metadata": {},
      "source": [
        "src_srtm_mask_crop = rasterio.open('output/srtm_masked_cropped.tif')\n",
        "out_image_mask_crop.shape"
      ],
      "execution_count": null,
      "outputs": []
    },
    {
      "cell_type": "markdown",
      "metadata": {},
      "source": [
        "@fig-raster-crop shows the original raster, and the all of the masked and cropped results."
      ]
    },
    {
      "cell_type": "code",
      "metadata": {},
      "source": [
        "#| label: fig-raster-crop\n",
        "#| fig-cap: Raster masking and cropping\n",
        "#| layout-ncol: 2\n",
        "#| fig-subcap: \n",
        "#| - Original\n",
        "#| - Masked\n",
        "#| - Cropped\n",
        "#| - Masked+Cropped\n",
        "# Original\n",
        "fig, ax = plt.subplots(figsize=(3.5, 3.5))\n",
        "rasterio.plot.show(src_srtm, ax=ax)\n",
        "zion.plot(ax=ax, color='none', edgecolor='black');\n",
        "# Masked\n",
        "fig, ax = plt.subplots(figsize=(3.5, 3.5))\n",
        "rasterio.plot.show(src_srtm_mask, ax=ax)\n",
        "zion.plot(ax=ax, color='none', edgecolor='black');\n",
        "# Cropped\n",
        "fig, ax = plt.subplots(figsize=(3.5, 3.5))\n",
        "rasterio.plot.show(out_image_crop, transform=out_transform_crop, ax=ax)\n",
        "zion.plot(ax=ax, color='none', edgecolor='black');\n",
        "# Masked+Cropped\n",
        "fig, ax = plt.subplots(figsize=(3.5, 3.5))\n",
        "rasterio.plot.show(src_srtm_mask_crop, ax=ax)\n",
        "zion.plot(ax=ax, color='none', edgecolor='black');"
      ],
      "execution_count": null,
      "outputs": []
    },
    {
      "cell_type": "markdown",
      "metadata": {},
      "source": [
        "## Raster extraction {#sec-raster-extraction}\n",
        "\n",
        "Raster extraction is the process of identifying and returning the values associated with a 'target' raster at specific locations, based on a (typically vector) geographic 'selector' object.\n",
        "The reverse of raster extraction---assigning raster cell values based on vector objects---is rasterization, described in @sec-rasterization.\n",
        "\n",
        "In the following examples, we use a package called **rasterstats**, which is specifically aimed at extracting raster values:\n",
        "\n",
        "-   To *points* (@sec-extraction-to-points) or to *lines* (@sec-extraction-to-lines), via the [`rasterstats.point_query`](https://pythonhosted.org/rasterstats/rasterstats.html#rasterstats.point_query) function\n",
        "-   To *polygons* (@sec-extraction-to-polygons), via the [`rasterstats.zonal_stats`](https://pythonhosted.org/rasterstats/rasterstats.html#rasterstats.zonal_stats) function\n",
        "\n",
        "### Extraction to points {#sec-extraction-to-points}\n",
        "\n",
        "The simplest type of raster extraction is getting the values of raster cells at specific points.\n",
        "To demonstrate extraction to points, we will use `zion_points`, which contains a sample of 30 locations within the Zion National Park (@fig-zion-points)."
      ]
    },
    {
      "cell_type": "code",
      "metadata": {},
      "source": [
        "#| label: fig-zion-points\n",
        "#| fig-cap: 30 point locations within the Zion National Park, with elevation in the background\n",
        "fig, ax = plt.subplots()\n",
        "rasterio.plot.show(src_srtm, ax=ax)\n",
        "zion_points.plot(ax=ax, color='black');"
      ],
      "execution_count": null,
      "outputs": []
    },
    {
      "cell_type": "markdown",
      "metadata": {},
      "source": [
        "The following expression extracts elevation values from `srtm.tif` according to `zion_points`, using `rasterstats.point_query`."
      ]
    },
    {
      "cell_type": "code",
      "metadata": {},
      "source": [
        "result1 = rasterstats.point_query(\n",
        "    zion_points, \n",
        "    src_srtm.read(1), \n",
        "    nodata = src_srtm.nodata, \n",
        "    affine = src_srtm.transform,\n",
        "    interpolate='nearest'\n",
        ")"
      ],
      "execution_count": null,
      "outputs": []
    },
    {
      "cell_type": "markdown",
      "metadata": {},
      "source": [
        "The first two arguments are the vector layer and the array with rastetr values. \n",
        "The `nodata` and `affine` arguments are used to align the array values into the CRS, and to correctly treat \"No Data\" flags. \n",
        "Finally, the `interpolate` argument controls the way that the cell values are asigned to the point; `interpolate='nearest'` typically makes more sense, as opposed to the other option `interpolate='bilinear'` which is the default.\n",
        "\n",
        "Alternatively, we can pass a raster file path to `rasterstats.point_query`, in which case `nodata` and `affine` are not necessary, as the function can understand those properties from the raster file."
      ]
    },
    {
      "cell_type": "code",
      "metadata": {},
      "source": [
        "result2 = rasterstats.point_query(\n",
        "    zion_points, \n",
        "    'data/srtm.tif',\n",
        "    interpolate='nearest'\n",
        ")"
      ],
      "execution_count": null,
      "outputs": []
    },
    {
      "cell_type": "markdown",
      "metadata": {},
      "source": [
        "<!-- jn: explain the above arguments -->\n",
        "<!-- md: done -->\n",
        "\n",
        "The resulting object is a `list` of raster values, corresponding to `zion_points`.\n",
        "For example, here are the elevations of the first five points."
      ]
    },
    {
      "cell_type": "code",
      "metadata": {},
      "source": [
        "result1[:5]"
      ],
      "execution_count": null,
      "outputs": []
    },
    {
      "cell_type": "code",
      "metadata": {},
      "source": [
        "result2[:5]"
      ],
      "execution_count": null,
      "outputs": []
    },
    {
      "cell_type": "markdown",
      "metadata": {},
      "source": [
        "To get a `GeoDataFrame` with the original points geometries (and other attributes, if any), as well as the extracted raster values, we can assign the extraction result into a new column.\n",
        "As you can see, both approaches give the same result."
      ]
    },
    {
      "cell_type": "code",
      "metadata": {},
      "source": [
        "zion_points['elev1'] = result1\n",
        "zion_points['elev2'] = result2\n",
        "zion_points"
      ],
      "execution_count": null,
      "outputs": []
    },
    {
      "cell_type": "markdown",
      "metadata": {},
      "source": [
        "<!-- jn: what with multilayer raster? -->\n",
        "<!-- md: good point, now added -->\n",
        "\n",
        "The function supports extracting from just one raster band at a time.\n",
        "When passing an array, we can read the required band (as in, `.read(1)`, `.read(2)`, etc.).\n",
        "When passing a raster file path, we can set the band using the `band_num` argument (the default being `band_num=1`).\n",
        "\n",
        "### Extraction to lines {#sec-extraction-to-lines}\n",
        "\n",
        "Raster extraction is also applicable with line selectors.\n",
        "The typical line extraction algorithm is to extract one value for each raster cell touched by a line.\n",
        "However, this particular approach is not recommended to obtain values along the transects, as it is hard to get the correct distance between each pair of extracted raster values.\n",
        "\n",
        "For line extraction, a better approach is to split the line into many points (at equal distances along the line) and then extract the values for these points using the \"extraction to points\" technique (@sec-extraction-to-points).\n",
        "To demonstrate this, the code below creates (see @sec-vector-data for recap) `zion_transect`, a straight line going from northwest to southeast of the Zion National Park."
      ]
    },
    {
      "cell_type": "code",
      "metadata": {},
      "source": [
        "coords = [[-113.2, 37.45], [-112.9, 37.2]]\n",
        "zion_transect = shapely.LineString(coords)\n",
        "print(zion_transect)"
      ],
      "execution_count": null,
      "outputs": []
    },
    {
      "cell_type": "markdown",
      "metadata": {},
      "source": [
        "The utility of extracting heights from a linear selector is illustrated by imagining that you are planning a hike.\n",
        "The method demonstrated below provides an 'elevation profile' of the route (the line does not need to be straight), useful for estimating how long it will take due to long climbs.\n",
        "\n",
        "First, we need to create a layer consisting of points along our line (`zion_transect`), at specified intervals (e.g., `250`).\n",
        "To do that, we need to transform the line into a projected CRS (so that we work with true distances, in $m$), such as UTM.\n",
        "This requires going through a `GeoSeries`, as **shapely** geometries have no CRS definition nor concept of reprojection (see @sec-vector-layer-from-scratch)."
      ]
    },
    {
      "cell_type": "code",
      "metadata": {},
      "source": [
        "zion_transect_utm = gpd.GeoSeries(zion_transect, crs=4326).to_crs(32612)\n",
        "zion_transect_utm = zion_transect_utm.iloc[0]"
      ],
      "execution_count": null,
      "outputs": []
    },
    {
      "cell_type": "markdown",
      "metadata": {},
      "source": [
        "The printout of the new geometry shows this is still a straight line between two points, only with coordinates in a projected CRS."
      ]
    },
    {
      "cell_type": "code",
      "metadata": {},
      "source": [
        "print(zion_transect_utm)"
      ],
      "execution_count": null,
      "outputs": []
    },
    {
      "cell_type": "markdown",
      "metadata": {},
      "source": [
        "Next, we need to calculate the distances, along the line, where points are going to be generated, using [`np.arange`](https://numpy.org/doc/stable/reference/generated/numpy.arange.html).\n",
        "This is a numeric sequence starting at `0`, going up to line `.length`, in steps of `250` ($m$)."
      ]
    },
    {
      "cell_type": "code",
      "metadata": {},
      "source": [
        "distances = np.arange(0, zion_transect_utm.length, 250)\n",
        "distances[:7]  ## First 7 distance cutoff points"
      ],
      "execution_count": null,
      "outputs": []
    },
    {
      "cell_type": "markdown",
      "metadata": {},
      "source": [
        "The distances cutoffs are used to sample (\"interpolate\") points along the line.\n",
        "The **shapely** [`.interpolate`](https://shapely.readthedocs.io/en/stable/manual.html#object.interpolate) method is used to generate the points, which then are reprojected back to the geographic CRS of the raster (EPSG:`4326`)."
      ]
    },
    {
      "cell_type": "code",
      "metadata": {},
      "source": [
        "zion_transect_pnt = [zion_transect_utm.interpolate(distance) for distance in distances]\n",
        "zion_transect_pnt = gpd.GeoSeries(zion_transect_pnt, crs=32612).to_crs(src_srtm.crs)\n",
        "zion_transect_pnt"
      ],
      "execution_count": null,
      "outputs": []
    },
    {
      "cell_type": "markdown",
      "metadata": {},
      "source": [
        "Finally, we extract the elevation values for each point in our transect and combine the information with `zion_transect_pnt` (after \"promoting\" it to a `GeoDataFrame`, to accommodate extra attributes), using the point extraction method shown earlier (@sec-extraction-to-points).\n",
        "We also attach the respective distance cutoff points `distances`."
      ]
    },
    {
      "cell_type": "code",
      "metadata": {},
      "source": [
        "result = rasterstats.point_query(\n",
        "    zion_transect_pnt, \n",
        "    src_srtm.read(1), \n",
        "    nodata = src_srtm.nodata, \n",
        "    affine = src_srtm.transform,\n",
        "    interpolate='nearest'\n",
        ")\n",
        "zion_transect_pnt = gpd.GeoDataFrame(geometry=zion_transect_pnt)\n",
        "zion_transect_pnt['dist'] = distances\n",
        "zion_transect_pnt['elev'] = result\n",
        "zion_transect_pnt"
      ],
      "execution_count": null,
      "outputs": []
    },
    {
      "cell_type": "markdown",
      "metadata": {},
      "source": [
        "The information in `zion_transect_pnt`, namely the `'dist'` and `'elev'` attributes, can now be used to draw an elevation profile, as illustrated in @fig-zion-transect."
      ]
    },
    {
      "cell_type": "code",
      "metadata": {},
      "source": [
        "#| label: fig-zion-transect\n",
        "#| fig-cap: Extracting a raster values profile to line \n",
        "#| layout-ncol: 2\n",
        "#| fig-subcap: \n",
        "#| - Raster and a line transect\n",
        "#| - Extracted elevation profile\n",
        "# Raster and a line transect\n",
        "fig, ax = plt.subplots()\n",
        "rasterio.plot.show(src_srtm, ax=ax)\n",
        "gpd.GeoSeries(zion_transect).plot(ax=ax, color='black')\n",
        "zion.plot(ax=ax, color='none', edgecolor='white');\n",
        "# Elevation profile\n",
        "fig, ax = plt.subplots()\n",
        "zion_transect_pnt.set_index('dist')['elev'].plot(ax=ax)\n",
        "ax.set_xlabel('Distance (m)')\n",
        "ax.set_ylabel('Elevation (m)');"
      ],
      "execution_count": null,
      "outputs": []
    },
    {
      "cell_type": "markdown",
      "metadata": {},
      "source": [
        "### Extraction to polygons {#sec-extraction-to-polygons}\n",
        "\n",
        "The final type of geographic vector object for raster extraction is polygons.\n",
        "Like lines, polygons tend to return many raster values per polygon.\n",
        "For continuous rasters (@fig-raster-extract-to-polygon (a)), we typically want to generate summary statistics for raster values per polygon, for example to characterize a single region or to compare many regions.\n",
        "The generation of raster summary statistics, by polygons, is demonstrated in the code below using `rasterstats.zonal_stats`, which creates a list of summary statistics (in this case a list of length 1, since there is just one polygon)."
      ]
    },
    {
      "cell_type": "code",
      "metadata": {},
      "source": [
        "result = rasterstats.zonal_stats(\n",
        "    zion, \n",
        "    src_srtm.read(1), \n",
        "    nodata = src_srtm.nodata, \n",
        "    affine = src_srtm.transform, \n",
        "    stats = ['mean', 'min', 'max']\n",
        ")\n",
        "result"
      ],
      "execution_count": null,
      "outputs": []
    },
    {
      "cell_type": "markdown",
      "metadata": {},
      "source": [
        "::: callout-note\n",
        "`rasterstats.zonal_stats`, just like `rasterstats.point_query` (@sec-extraction-to-points), supports raster input as file paths, rather than arrays plus `nodata` and `affine` arguments.\n",
        ":::\n",
        "\n",
        "Transformation of the `list` to a `DataFrame` (e.g., to attach the derived attributes to the original polygon layer), is straightforward with the `pd.DataFrame` constructor."
      ]
    },
    {
      "cell_type": "code",
      "metadata": {},
      "source": [
        "pd.DataFrame(result)"
      ],
      "execution_count": null,
      "outputs": []
    },
    {
      "cell_type": "markdown",
      "metadata": {},
      "source": [
        "Because there is only one polygon in the example, a `DataFrame` with a single row is returned.\n",
        "However, if `zion` was composed of more than one polygon, we would accordingly get more rows in the `DataFrame`.\n",
        "The result provides useful summaries, for example that the maximum height in the park is around `2661` $m$ above see level.\n",
        "\n",
        "Note the `stats` argument, where we determine what type of statistics are calculated per polygon.\n",
        "Possible values other than `'mean'`, `'min'`, `'max'` are:\n",
        "\n",
        "-   `'count'`---The number of valid (i.e., excluding \"No Data\") pixels\n",
        "-   `'nodata'`---The number of pixels with 'No Data\"\n",
        "-   `'majority'`---The most frequently occurring value\n",
        "-   `'median'`---The median value\n",
        "\n",
        "See the [documentation](https://pythonhosted.org/rasterstats/manual.html#statistics) of `rasterstats.zonal_stats` for the complete list.\n",
        "Additionally, the `rasterstats.zonal_stats` function accepts user-defined functions for calculating any custom statistics.\n",
        "\n",
        "To count occurrences of categorical raster values within polygons (@fig-raster-extract-to-polygon (b)), we can use masking (@sec-raster-cropping) combined with `np.unique`, as follows."
      ]
    },
    {
      "cell_type": "code",
      "metadata": {},
      "source": [
        "out_image, out_transform = rasterio.mask.mask(\n",
        "    src_nlcd, \n",
        "    zion.geometry.to_crs(src_nlcd.crs), \n",
        "    crop=False, \n",
        "    nodata=9999\n",
        ")\n",
        "counts = np.unique(out_image, return_counts=True)\n",
        "counts"
      ],
      "execution_count": null,
      "outputs": []
    },
    {
      "cell_type": "markdown",
      "metadata": {},
      "source": [
        "According to the result, for example, pixel value `2` (\"Developed\" class) appears in `4205` pixels within the Zion polygon.\n",
        "\n",
        "@fig-raster-extract-to-polygon illustrates the two types of raster extraction to polygons described above."
      ]
    },
    {
      "cell_type": "code",
      "metadata": {},
      "source": [
        "#| label: fig-raster-extract-to-polygon\n",
        "#| fig-cap: Sample data used for continuous and categorical raster extraction to a polygon\n",
        "#| layout-ncol: 2\n",
        "#| fig-subcap: \n",
        "#| - Continuous raster\n",
        "#| - Categorical raster\n",
        "# Continuous raster\n",
        "fig, ax = plt.subplots()\n",
        "rasterio.plot.show(src_srtm, ax=ax)\n",
        "zion.plot(ax=ax, color='none', edgecolor='black');\n",
        "# Categorical raster\n",
        "fig, ax = plt.subplots()\n",
        "rasterio.plot.show(src_nlcd, ax=ax, cmap='Set3')\n",
        "zion.to_crs(src_nlcd.crs).plot(ax=ax, color='none', edgecolor='black');"
      ],
      "execution_count": null,
      "outputs": []
    },
    {
      "cell_type": "markdown",
      "metadata": {},
      "source": [
        "<!-- jn: what is the state of plotting categorical rasters? can it read the color palette from a file? -->\n",
        "<!-- md: admittedly I've never used this functionality in either R or Python... If you have a sample data file I'll be happy to experiment with it. -->\n",
        "\n",
        "## Rasterization {#sec-rasterization}\n",
        "\n",
        "<!-- jn: intro is missing -->\n",
        "<!-- md: the first parts of the section are the intro, now reorganized -->\n",
        "\n",
        "Rasterization is the conversion of vector objects into their representation in raster objects.\n",
        "Usually, the output raster is used for quantitative analysis (e.g., analysis of terrain) or modeling.\n",
        "As we saw in @sec-spatial-class, the raster data model has some characteristics that make it conducive to certain methods.\n",
        "Furthermore, the process of rasterization can help simplify datasets because the resulting values all have the same spatial resolution: rasterization can be seen as a special type of geographic data aggregation.\n",
        "\n",
        "The **rasterio** package contains the [`rasterio.features.rasterize`](https://rasterio.readthedocs.io/en/stable/api/rasterio.features.html#rasterio.features.rasterize) function for doing this work.\n",
        "To make it happen, we need to have the \"template\" grid definition, i.e., the \"template\" raster defining the extent, resolution and CRS of the output, in the `out_shape` (the output dimensions) and `transform` (the transformation matrix) arguments of `rasterio.features.rasterize`.\n",
        "In case we have an existing template raster, we simply need to query its `.shape` and `.transform`.\n",
        "On the other hand, if we need to create a custom template, e.g., covering the vector layer extent with specified resolution, there is some extra work to calculate both of these objects (see next example).\n",
        "\n",
        "As for the vector geometries and their associated values, the `rasterio.features.rasterize` function requires the input vector shapes in the form of an iterable object of `geometry,value` pairs, where:\n",
        "\n",
        "-   `geometry` is the given geometry (**shapely** geometry object)\n",
        "-   `value` is the value to be \"burned\" into pixels coinciding with the geometry (`int` or `float`)\n",
        "\n",
        "Furthermore, we define how to deal with multiple values burned into the same pixel, using the `merge_alg` parameter.\n",
        "The default `merge_alg=rasterio.enums.MergeAlg.replace` means that \"later\" values replace \"earlier\" ones, i.e., the pixel gets the \"last\" burned value.\n",
        "The other option `merge_alg=rasterio.enums.MergeAlg.add` means that burned values are summed, i.e., the pixel gets the sum of all burned values.\n",
        "\n",
        "When rasterizing lines and polygons, we also have the choice between two pixel-matching algorithms. \n",
        "The default, `all_touched=False`, implies pixels that are selected by [Bresenham's line algorithm](https://en.wikipedia.org/wiki/Bresenham%27s_line_algorithm) (for lines) or pixels whose center is within the polygon (for polygons).\n",
        "The other option `all_touched=True`, as the name suggests, implies that all pixels intersecting with the geometry are matched.\n",
        "\n",
        "Finally, we can set the `fill` value, which is the value that \"unaffected\" pixels get, with `fill=0` being the default.\n",
        "\n",
        "How the `rasterio.features.rasterize` function works with all of these various parameters will be made clear in the next examples.\n",
        "\n",
        "The geographic resolution of the \"template\" raster has a major impact on the results: if it is too low (cell size is too large), the result may miss the full geographic variability of the vector data; if it is too high, computational times may be excessive.\n",
        "There are no simple rules to follow when deciding an appropriate geographic resolution, which is heavily dependent on the intended use of the results.\n",
        "Often the target resolution is imposed on the user, for example when the output of rasterization needs to be aligned to the existing raster.\n",
        "\n",
        "Depending on the input data, rasterization typically takes one of two forms which we demonstrate next:\n",
        "\n",
        "-   in *point* rasterization (@sec-rasterizing-points), we typically choose how to treat multiple points: either to summarize presence/absence, point count, or summed attribute values (@fig-rasterize-points)\n",
        "-   in *line* and *polygon* rasterization (@sec-rasterizing-lines-and-polygons), there are typically no such \"overlaps\" and we simply \"burn\" attribute values, or fixed values, into pixels coinciding with the given geometries (@fig-rasterize-lines-polygons)\n",
        "\n",
        "### Rasterizing points {#sec-rasterizing-points}\n",
        "\n",
        "To demonstrate point rasterization, we will prepare a \"template\" raster that has the same extent and CRS as the input vector data `cycle_hire_osm_projected` (a dataset on cycle hire points in London, illustrated in @fig-rasterize-points (a)) and a spatial resolution of 1000 $m$.\n",
        "To do that, we first take our point layer and transform it to a projected CRS."
      ]
    },
    {
      "cell_type": "code",
      "metadata": {},
      "source": [
        "cycle_hire_osm_projected = cycle_hire_osm.to_crs(27700)"
      ],
      "execution_count": null,
      "outputs": []
    },
    {
      "cell_type": "markdown",
      "metadata": {},
      "source": [
        "Next, we calculate the `out_shape` and `transform` of the template raster.\n",
        "To calculate the transform, we combine the top-left corner of the `cycle_hire_osm_projected` bounding box with the required resolution (e.g., 1000 $m$)."
      ]
    },
    {
      "cell_type": "code",
      "metadata": {},
      "source": [
        "bounds = cycle_hire_osm_projected.total_bounds\n",
        "res = 1000\n",
        "transform = rasterio.transform.from_origin(\n",
        "    west=bounds[0], \n",
        "    north=bounds[3], \n",
        "    xsize=res, \n",
        "    ysize=res\n",
        ")\n",
        "transform"
      ],
      "execution_count": null,
      "outputs": []
    },
    {
      "cell_type": "markdown",
      "metadata": {},
      "source": [
        "To calculate the `out_shape`, we divide the x-axis and y-axis extent by the resolution, taking the ceiling of the results."
      ]
    },
    {
      "cell_type": "code",
      "metadata": {},
      "source": [
        "rows = math.ceil((bounds[3] - bounds[1]) / res)\n",
        "cols = math.ceil((bounds[2] - bounds[0]) / res)\n",
        "shape = (rows, cols)\n",
        "shape"
      ],
      "execution_count": null,
      "outputs": []
    },
    {
      "cell_type": "markdown",
      "metadata": {},
      "source": [
        "Finally, we are ready to rasterize.\n",
        "As mentioned abover, point rasterization can be a very flexible operation: the results depend not only on the nature of the template raster, but also on the pixel \"activation\" method, namely the way we deal with multiple points matching the same pixel.\n",
        "\n",
        "To illustrate this flexibility, we will try three different approaches to point rasterization (@fig-rasterize-points (b)-(d)).\n",
        "First, we create a raster representing the presence or absence of cycle hire points (known as presence/absence rasters).\n",
        "In this case, we transfer the value of `1` to all pixels where at least one point falls in.\n",
        "In the **rasterio** framework, we use the `rasterio.features.rasterize` function, which requires an iterable object of `geometry,value` pairs. \n",
        "In this first example, we transform the point `GeoDataFrame` into a `list` of `shapely` geometries and the (fixed) value of `1`, using list comprehension as follows.\n",
        "The first five elements of the `list` are hereby printed to illustrate its structure.\n",
        "<!-- jn: maybe explain the code below in more detail? -->\n",
        "<!-- md: the code is now simplified and hopefully better explained -->\n",
        "<!-- jn: also maybe use a different name than g? -->\n",
        "<!-- md: I though 'g' for 'geometries' is OK here. 'shapes' can be confusing because there is also 'shape' in the second parameter. will be happy to hear other ideas -->"
      ]
    },
    {
      "cell_type": "code",
      "metadata": {},
      "source": [
        "g = [(g, 1) for g in cycle_hire_osm_projected.geometry]\n",
        "g[:5]"
      ],
      "execution_count": null,
      "outputs": []
    },
    {
      "cell_type": "markdown",
      "metadata": {},
      "source": [
        "The list of `geometry,value` pairs is passed to `rasterio.features.rasterize`, along with the `shape` and `transform` which define the raster template.\n",
        "The result `ch_raster1` is an `ndarray` with the burned values of `1` where the pixel coincides with at least one point, and `0` in \"unaffected\" pixels.\n",
        "Note that `merge_alg=rasterio.enums.MergeAlg.replace` (the default) is used here, which means that a pixel get `1` when one or more point fall in it, or keeps the original `0` value otherwise.\n",
        "\n",
        "<!-- md: IMHO printing is important here to illustrate what we get in 'ch_raster1', so I've removed the 'eval:false' part -->"
      ]
    },
    {
      "cell_type": "code",
      "metadata": {},
      "source": [
        "ch_raster1 = rasterio.features.rasterize(\n",
        "    shapes=g,\n",
        "    out_shape=shape, \n",
        "    transform=transform\n",
        ")\n",
        "ch_raster1"
      ],
      "execution_count": null,
      "outputs": []
    },
    {
      "cell_type": "markdown",
      "metadata": {},
      "source": [
        "In our second variant of point rasterization, we count the number of bike hire stations. \n",
        "To do that, we use the fixed value of `1` (same as in the last example), but this time combined with the `merge_alg=rasterio.enums.MergeAlg.add` argument. \n",
        "That way, multiple values burned into the same pixel are *summed*, rather than replaced keeping last (which is the default).\n",
        "The new output, `ch_raster2`, shows the number of cycle hire points in each grid cell.\n",
        "<!--jn: rasterio.enums.MergeAlg.add definetely needs more explanation (maybe as a block)...-->\n",
        "<!-- md: agree this required more information, the 'merge_alg' argument is now exaplained in the intro where the function is introduced -->\n",
        "<!-- md: same here, I think the array should be printed like in similar cases in the book, to show what the function returns -->"
      ]
    },
    {
      "cell_type": "code",
      "metadata": {},
      "source": [
        "g = [(g, 1) for g in cycle_hire_osm_projected.geometry]\n",
        "ch_raster2 = rasterio.features.rasterize(\n",
        "    shapes=g,\n",
        "    out_shape=shape,\n",
        "    transform=transform,\n",
        "    merge_alg=rasterio.enums.MergeAlg.add\n",
        ")\n",
        "ch_raster2"
      ],
      "execution_count": null,
      "outputs": []
    },
    {
      "cell_type": "markdown",
      "metadata": {},
      "source": [
        "The cycle hire locations have different numbers of bicycles described by the capacity variable, raising the question, what is the capacity in each grid cell?\n",
        "To calculate that, in our third point rasterization variant we sum the field (`'capacity'`) rather than the fixed values of `1`.\n",
        "This requires using a more complex list comprehension expression, where we also (1) extract both geometries and the attribute of interest, and (2) filter out \"No Data\" values, which can be done as follows.\n",
        "You are invited to run the separate parts to see how this works; the important point is that, in the end, we get the list `g` with the `geometry,value` pairs to be burned, only that the `value` is now variable, rather than fixed, among points.\n",
        "<!-- jn: I think the code below should be explained in more detail... -->\n",
        "<!-- md: I agree, now split into two code blocks and explained -->"
      ]
    },
    {
      "cell_type": "code",
      "metadata": {},
      "source": [
        "g = [(g, v) for g, v in cycle_hire_osm_projected[['geometry', 'capacity']] \\\n",
        "        .dropna(subset='capacity')\n",
        "        .to_numpy() \\\n",
        "        .tolist()]\n",
        "g[:5]"
      ],
      "execution_count": null,
      "outputs": []
    },
    {
      "cell_type": "markdown",
      "metadata": {},
      "source": [
        "Now we rasterize the points, again using `merge_alg=rasterio.enums.MergeAlg.add` to sum the capacity values per pixel."
      ]
    },
    {
      "cell_type": "code",
      "metadata": {},
      "source": [
        "ch_raster3 = rasterio.features.rasterize(\n",
        "    shapes=g,\n",
        "    out_shape=shape,\n",
        "    transform=transform,\n",
        "    merge_alg=rasterio.enums.MergeAlg.add\n",
        ")\n",
        "ch_raster3"
      ],
      "execution_count": null,
      "outputs": []
    },
    {
      "cell_type": "markdown",
      "metadata": {},
      "source": [
        "The result `ch_raster3` shows the total capacity of cycle hire points in each grid cell.\n",
        "\n",
        "The input point layer `cycle_hire_osm_projected` and the three variants of rasterizing it `ch_raster1`, `ch_raster2`, and `ch_raster3` are shown in @fig-rasterize-points."
      ]
    },
    {
      "cell_type": "code",
      "metadata": {},
      "source": [
        "#| label: fig-rasterize-points\n",
        "#| fig-cap: Original data and three variants of point rasterization\n",
        "#| layout-ncol: 2\n",
        "#| fig-subcap: \n",
        "#| - Input points\n",
        "#| - Presence/Absence\n",
        "#| - Point counts\n",
        "#| - Summed attribute values\n",
        "# Input points\n",
        "fig, ax = plt.subplots()\n",
        "cycle_hire_osm_projected.plot(column='capacity', ax=ax);\n",
        "# Presence/Absence\n",
        "fig, ax = plt.subplots()\n",
        "rasterio.plot.show(ch_raster1, transform=transform, ax=ax);\n",
        "# Point counts\n",
        "fig, ax = plt.subplots()\n",
        "rasterio.plot.show(ch_raster2, transform=transform, ax=ax);\n",
        "# Summed attribute values\n",
        "fig, ax = plt.subplots()\n",
        "rasterio.plot.show(ch_raster3, transform=transform, ax=ax);"
      ],
      "execution_count": null,
      "outputs": []
    },
    {
      "cell_type": "markdown",
      "metadata": {},
      "source": [
        "### Rasterizing lines and polygons {#sec-rasterizing-lines-and-polygons}\n",
        "\n",
        "Another dataset based on California's polygons and borders (created below) illustrates rasterization of lines.\n",
        "There are three preliminary steps.\n",
        "First, we subset the California polygon."
      ]
    },
    {
      "cell_type": "code",
      "metadata": {},
      "source": [
        "california = us_states[us_states['NAME'] == 'California']\n",
        "california"
      ],
      "execution_count": null,
      "outputs": []
    },
    {
      "cell_type": "markdown",
      "metadata": {},
      "source": [
        "Second, we \"cast\" the polygon into a `'MultiLineString'` geometry, using the [`.boundary`](https://geopandas.org/en/stable/docs/reference/api/geopandas.GeoSeries.boundary.html) property that `GeoSeries` have."
      ]
    },
    {
      "cell_type": "code",
      "metadata": {},
      "source": [
        "california_borders = california.geometry.boundary\n",
        "california_borders"
      ],
      "execution_count": null,
      "outputs": []
    },
    {
      "cell_type": "markdown",
      "metadata": {},
      "source": [
        "Third, we create the `transform` and `shape` describing our template raster, with a resolution of a `0.5` degree, using the same approach as in @sec-rasterizing-points."
      ]
    },
    {
      "cell_type": "code",
      "metadata": {},
      "source": [
        "bounds = california_borders.total_bounds\n",
        "res = 0.5\n",
        "transform = rasterio.transform.from_origin(\n",
        "    west=bounds[0], \n",
        "    north=bounds[3], \n",
        "    xsize=res, \n",
        "    ysize=res\n",
        ")\n",
        "rows = math.ceil((bounds[3] - bounds[1]) / res)\n",
        "cols = math.ceil((bounds[2] - bounds[0]) / res)\n",
        "shape = (rows, cols)\n",
        "shape"
      ],
      "execution_count": null,
      "outputs": []
    },
    {
      "cell_type": "markdown",
      "metadata": {},
      "source": [
        "Finally, we rasterize `california_borders` based on the calculated template's `shape` and `transform`.\n",
        "When considering line or polygon rasterization, one useful additional argument is `all_touched`.\n",
        "By default it is `False`, but when changed to `True`---all cells that are touched by a line or polygon border get a value.\n",
        "Line rasterization with `all_touched=True` is demonstrated in the code below (@fig-rasterize-lines-polygons, left).\n",
        "We are also using `fill=np.nan` to set \"background\" values as \"No Data\"."
      ]
    },
    {
      "cell_type": "code",
      "metadata": {},
      "source": [
        "california_raster1 = rasterio.features.rasterize(\n",
        "    [(g, 1) for g in california_borders],\n",
        "    out_shape=shape,\n",
        "    transform=transform,\n",
        "    all_touched=True,\n",
        "    fill=np.nan\n",
        ")"
      ],
      "execution_count": null,
      "outputs": []
    },
    {
      "cell_type": "markdown",
      "metadata": {},
      "source": [
        "Compare it to a polygon rasterization, with `all_touched=False` (the default), which selects only raster cells whose centroids are inside the selector polygon, as illustrated in @fig-rasterize-lines-polygons (right)."
      ]
    },
    {
      "cell_type": "code",
      "metadata": {},
      "source": [
        "california_raster2 = rasterio.features.rasterize(\n",
        "    [(g, 1) for g in california.geometry],\n",
        "    out_shape=shape,\n",
        "    transform=transform,\n",
        "    fill=np.nan\n",
        ")"
      ],
      "execution_count": null,
      "outputs": []
    },
    {
      "cell_type": "markdown",
      "metadata": {},
      "source": [
        "To illustrate which raster pixels are actually selected as part of rasterization, we also show them as points.\n",
        "This also requires the following code section to calculate the points, which we explain in @sec-spatial-vectorization.\n",
        "\n",
        "<!-- md: note to self that if we switch to a more efficient raster-to-points method (following Anita's suggestion), then this code block needs to be changed as well (edit: now done) -->"
      ]
    },
    {
      "cell_type": "code",
      "metadata": {},
      "source": [
        "height = california_raster1.shape[0]\n",
        "width = california_raster1.shape[1]\n",
        "cols, rows = np.meshgrid(np.arange(width), np.arange(height))\n",
        "x, y = rasterio.transform.xy(transform, rows, cols)\n",
        "x = np.array(x).flatten()\n",
        "y = np.array(y).flatten()\n",
        "z = california_raster1.flatten()\n",
        "geom = gpd.points_from_xy(x, y, crs=california.crs)\n",
        "pnt = gpd.GeoDataFrame(data={'value':z}, geometry=geom)\n",
        "pnt"
      ],
      "execution_count": null,
      "outputs": []
    },
    {
      "cell_type": "markdown",
      "metadata": {},
      "source": [
        "@fig-rasterize-lines-polygons shows the input vector layer, the rasterization results, and the points `pnt`."
      ]
    },
    {
      "cell_type": "code",
      "metadata": {},
      "source": [
        "#| label: fig-rasterize-lines-polygons\n",
        "#| fig-cap: Examples of line and polygon rasterization \n",
        "#| layout-ncol: 2\n",
        "#| fig-subcap: \n",
        "#| - Line rasterization w/ `all_touched=True`\n",
        "#| - Polygon rasterization w/ `all_touched=False`\n",
        "# Line rasterization\n",
        "fig, ax = plt.subplots()\n",
        "rasterio.plot.show(california_raster1, transform=transform, ax=ax, cmap='Set3')\n",
        "gpd.GeoSeries(california_borders).plot(ax=ax, edgecolor='darkgrey', linewidth=1)\n",
        "pnt.plot(ax=ax, color='black', markersize=1);\n",
        "# Polygon rasterization\n",
        "fig, ax = plt.subplots()\n",
        "rasterio.plot.show(california_raster2, transform=transform, ax=ax, cmap='Set3')\n",
        "california.plot(ax=ax, color='none', edgecolor='darkgrey', linewidth=1)\n",
        "pnt.plot(ax=ax, color='black', markersize=1);"
      ],
      "execution_count": null,
      "outputs": []
    },
    {
      "cell_type": "markdown",
      "metadata": {},
      "source": [
        "## Spatial vectorization {#sec-spatial-vectorization}\n",
        "\n",
        "Spatial vectorization is the counterpart of rasterization (@sec-rasterization).\n",
        "It involves converting spatially continuous raster data into spatially discrete vector data such as points, lines or polygons.\n",
        "There are three standard methods to convert a raster to a vector layer, which we cover next:\n",
        "\n",
        "-   Raster to polygons (@sec-raster-to-polygons)---converting raster cells to rectangular polygons, representing pixel areas\n",
        "-   Raster to points (@sec-raster-to-points)---converting raster cells to points, representing pixel centroids\n",
        "-   Raster to contours (@sec-raster-to-contours)\n",
        "\n",
        "Let us demonstrate all three in the given order.\n",
        "\n",
        "### Raster to polygons {#sec-raster-to-polygons}\n",
        "\n",
        "The [`rasterio.features.shapes`](https://rasterio.readthedocs.io/en/stable/api/rasterio.features.html#rasterio.features.shapes) gives access to raster pixels as polygon geometries, along with the associated raster values.\n",
        "The returned object is a generator (see note in @sec-spatial-subsetting-raster), yielding `geometry,value` pairs.\n",
        "<!-- jn: the above paragraph is not easy to read, maybe rephrase? -->\n",
        "<!-- md: right, now rephrased -->\n",
        "\n",
        "For example, the following expression returns a generator named `shapes`, referring to the pixel polygons."
      ]
    },
    {
      "cell_type": "code",
      "metadata": {},
      "source": [
        "shapes = rasterio.features.shapes(\n",
        "    rasterio.band(src_grain, 1) \n",
        ")\n",
        "shapes"
      ],
      "execution_count": null,
      "outputs": []
    },
    {
      "cell_type": "markdown",
      "metadata": {},
      "source": [
        "We can generate all shapes at once into a `list` named `pol` with `list(shapes)`."
      ]
    },
    {
      "cell_type": "code",
      "metadata": {},
      "source": [
        "pol = list(shapes)"
      ],
      "execution_count": null,
      "outputs": []
    },
    {
      "cell_type": "markdown",
      "metadata": {},
      "source": [
        "Each element in `pol` is a `tuple` of length 2, containing the GeoJSON-like `dict`---representing the polygon geometry and the value of the pixel(s)---which comprise the polygon.\n",
        "For example, here is the first element of `pol`."
      ]
    },
    {
      "cell_type": "code",
      "metadata": {},
      "source": [
        "pol[0]"
      ],
      "execution_count": null,
      "outputs": []
    },
    {
      "cell_type": "markdown",
      "metadata": {},
      "source": [
        "<!-- jn: maybe the next sentence as a block -->\n",
        "<!-- md: sure, done -->\n",
        "\n",
        "::: callout-note\n",
        "Note that, when transforming a raster cell into a polygon, five coordinate pairs need to be kept in memory to represent  its geometry (explaining why rasters are often fast compared with vectors!).\n",
        ":::\n",
        "\n",
        "To transform the `list` coming out of `rasterio.features.shapes` into the familiar `GeoDataFrame`, we need few more steps of data reshaping.\n",
        "First, we apply the [`shapely.geometry.shape`](https://shapely.readthedocs.io/en/stable/manual.html#shapely.geometry.shape) function to go from a `list` of GeoJSON-like `dict`s to a `list` of `shapely` geometry objects.\n",
        "The `list` can then be converted to a `GeoSeries` (see @sec-vector-layer-from-scratch).\n",
        "<!-- jn: add a sentence or two here... -->\n",
        "<!-- md: right, now split the code to several blocks and added explanations -->"
      ]
    },
    {
      "cell_type": "code",
      "metadata": {},
      "source": [
        "geom = [shapely.geometry.shape(i[0]) for i in pol]\n",
        "geom = gpd.GeoSeries(geom, crs=src_grain.crs)\n",
        "geom"
      ],
      "execution_count": null,
      "outputs": []
    },
    {
      "cell_type": "markdown",
      "metadata": {},
      "source": [
        "The values can also be extracted from the `rasterio.features.shapes` and turned into a corresponding `Series`."
      ]
    },
    {
      "cell_type": "code",
      "metadata": {},
      "source": [
        "values = [i[1] for i in pol]\n",
        "values = pd.Series(values)\n",
        "values"
      ],
      "execution_count": null,
      "outputs": []
    },
    {
      "cell_type": "markdown",
      "metadata": {},
      "source": [
        "Finally, the two can be combined into a `GeoDataFrame`, hereby named `result`."
      ]
    },
    {
      "cell_type": "code",
      "metadata": {},
      "source": [
        "result = gpd.GeoDataFrame({'value': values, 'geometry': geom})\n",
        "result"
      ],
      "execution_count": null,
      "outputs": []
    },
    {
      "cell_type": "markdown",
      "metadata": {},
      "source": [
        "The polygon layer `result` is shown in @fig-raster-to-polygons."
      ]
    },
    {
      "cell_type": "code",
      "metadata": {},
      "source": [
        "#| label: fig-raster-to-polygons\n",
        "#| fig-cap: '`grain.tif` converted to a polygon layer'\n",
        "result.plot(column='value', edgecolor='black', legend=True);"
      ],
      "execution_count": null,
      "outputs": []
    },
    {
      "cell_type": "markdown",
      "metadata": {},
      "source": [
        "As highlighted using `edgecolor='black'`, neighboring pixels sharing the same raster value are dissolved into larger polygons.\n",
        "The `rasterio.features.shapes` function unfortunately does not offer a way to avoid this type of dissolving.\n",
        "One [suggestion](https://gis.stackexchange.com/questions/455980/vectorizing-all-pixels-as-separate-polygons-using-rasterio#answer-456251) is to add unique values between `0` and `0.9999` to all pixels, convert to polygons, and then get back to the original values using [`np.floor`](https://numpy.org/doc/stable/reference/generated/numpy.floor.html).\n",
        "\n",
        "### Raster to points {#sec-raster-to-points}\n",
        "\n",
        "To transform a raster to points, we can use the [`rasterio.transform.xy`](https://rasterio.readthedocs.io/en/latest/api/rasterio.transform.html#rasterio.transform.xy). \n",
        "As the name suggests, the function accepts row and column indices, and transforms them into x- and y-coordinates (using the raster's transformation matrix).\n",
        "For example, the coordinates of the top-left pixel can be calculated passing the `(row,col)` indices of `(0,0)`."
      ]
    },
    {
      "cell_type": "code",
      "metadata": {},
      "source": [
        "src = rasterio.open('output/elev.tif')\n",
        "rasterio.transform.xy(src.transform, 0, 0)"
      ],
      "execution_count": null,
      "outputs": []
    },
    {
      "cell_type": "markdown",
      "metadata": {},
      "source": [
        "::: callout-note\n",
        "Keep in mind that the coordinates of the top-left pixel (`(-1.25, 1.25)`), as calculated in the above expression, refer to the pixel *centroid*. \n",
        "Therefore, they are not identical to the raster origin coordinates (`(-1.5,1.5)`), as specified in the transformation matrix, which are the coordinates of the top-left edge/corner of the raster (see @fig-raster-to-points)."
      ]
    },
    {
      "cell_type": "code",
      "metadata": {},
      "source": [
        "src.transform"
      ],
      "execution_count": null,
      "outputs": []
    },
    {
      "cell_type": "markdown",
      "metadata": {},
      "source": [
        ":::\n",
        "\n",
        "To generalize the above expression to calculate the coordinates of *all* pixels, we first need to generate a grid of all possible row/column index combinations.\n",
        "This can be done using [`np.meshgrid`](https://numpy.org/doc/stable/reference/generated/numpy.meshgrid.html), as follows."
      ]
    },
    {
      "cell_type": "code",
      "metadata": {},
      "source": [
        "height = src.shape[0]\n",
        "width = src.shape[1]\n",
        "cols, rows = np.meshgrid(np.arange(width), np.arange(height))"
      ],
      "execution_count": null,
      "outputs": []
    },
    {
      "cell_type": "markdown",
      "metadata": {},
      "source": [
        "We now have two arrays, `rows` and `cols`, matching the shape of `elev.tif` and containing the corresponding row and column indices."
      ]
    },
    {
      "cell_type": "code",
      "metadata": {},
      "source": [
        "rows"
      ],
      "execution_count": null,
      "outputs": []
    },
    {
      "cell_type": "code",
      "metadata": {},
      "source": [
        "cols"
      ],
      "execution_count": null,
      "outputs": []
    },
    {
      "cell_type": "markdown",
      "metadata": {},
      "source": [
        "These can be passed to `rasterio.transform.xy` to transform the indices into point coordinates, accordingly stored in lists of arrays `x` and `y`."
      ]
    },
    {
      "cell_type": "code",
      "metadata": {},
      "source": [
        "x, y = rasterio.transform.xy(src.transform, rows, cols)"
      ],
      "execution_count": null,
      "outputs": []
    },
    {
      "cell_type": "code",
      "metadata": {},
      "source": [
        "x"
      ],
      "execution_count": null,
      "outputs": []
    },
    {
      "cell_type": "code",
      "metadata": {},
      "source": [
        "y"
      ],
      "execution_count": null,
      "outputs": []
    },
    {
      "cell_type": "markdown",
      "metadata": {},
      "source": [
        "Typically we want to work with the points in the form of a `GeoDataFrame` which also holds the attribute(s) value(s) as point attributes.\n",
        "To get there, we can transform the coordinates as well as any attributes to 1-dimensional arrays, and then use methods we are already familiar with (@sec-vector-layer-from-scratch) to combine them into a `GeoDataFrame`."
      ]
    },
    {
      "cell_type": "code",
      "metadata": {},
      "source": [
        "x = np.array(x).flatten()\n",
        "y = np.array(y).flatten()\n",
        "z = src.read(1).flatten()\n",
        "geom = gpd.points_from_xy(x, y, crs=src.crs)\n",
        "pnt = gpd.GeoDataFrame(data={'value':z}, geometry=geom)\n",
        "pnt"
      ],
      "execution_count": null,
      "outputs": []
    },
    {
      "cell_type": "markdown",
      "metadata": {},
      "source": [
        "This \"high-level\" workflow, like many other **rasterio**-based workflows covered in the book, is a commonly used one but lacking from the package itself. \n",
        "From the user perspective, it may be a good idea to wrap the workflow into a function (e.g., `raster_to_points(src)`, returning a `GeoDataFrame`), to be re-used whenever we need it.\n",
        "\n",
        "@fig-raster-to-points shows the input raster and the resulting point layer."
      ]
    },
    {
      "cell_type": "code",
      "metadata": {},
      "source": [
        "#| label: fig-raster-to-points\n",
        "#| fig-cap: Raster and point representation of `elev.tif`\n",
        "#| layout-ncol: 2\n",
        "#| fig-subcap: \n",
        "#| - Input raster\n",
        "#| - Points\n",
        "# Input raster\n",
        "fig, ax = plt.subplots()\n",
        "pnt.plot(column='value', legend=True, ax=ax)\n",
        "rasterio.plot.show(src_elev, ax=ax);\n",
        "# Points\n",
        "fig, ax = plt.subplots()\n",
        "pnt.plot(column='value', legend=True, ax=ax)\n",
        "rasterio.plot.show(src_elev, cmap='Greys', ax=ax);"
      ],
      "execution_count": null,
      "outputs": []
    },
    {
      "cell_type": "markdown",
      "metadata": {},
      "source": [
        "Note that \"No Data\" pixels can be filtered out from the conversion, if necessary (see @sec-distance-to-nearest-geometry).\n",
        "\n",
        "### Raster to contours {#sec-raster-to-contours}\n",
        "\n",
        "Another common type of spatial vectorization is the creation of contour lines representing lines of continuous height or temperatures (*isotherms*), for example.\n",
        "We will use a real-world digital elevation model (DEM) because the artificial raster `elev.tif` produces parallel lines (task for the reader: verify this and explain why this happens).\n",
        "Plotting contour lines is straightforward, using the `contour=True` option of `rasterio.plot.show` (@fig-raster-contours1)."
      ]
    },
    {
      "cell_type": "code",
      "metadata": {},
      "source": [
        "#| label: fig-raster-contours1\n",
        "#| fig-cap: Displaying raster contours\n",
        "fig, ax = plt.subplots()\n",
        "rasterio.plot.show(src_dem, ax=ax)\n",
        "rasterio.plot.show(\n",
        "    src_dem, \n",
        "    ax=ax, \n",
        "    contour=True, \n",
        "    levels=np.arange(0,1200,50), \n",
        "    colors='black'\n",
        ");"
      ],
      "execution_count": null,
      "outputs": []
    },
    {
      "cell_type": "markdown",
      "metadata": {},
      "source": [
        "Unfortunately, `rasterio` does not provide any way of extracting the contour lines in the form of a vector layer, for uses other than plotting.\n",
        "\n",
        "There are two possible workarounds:\n",
        "\n",
        "1.  Using `gdal_contour` on the [command line](https://gdal.org/programs/gdal_contour.html) (see below), or through its Python interface [**osgeo**](https://gis.stackexchange.com/questions/360431/how-can-i-create-contours-from-geotiff-and-python-gdal-rasterio-etc-into-sh)\n",
        "2.  Writing a custom function to export contour coordinates generated by, e.g., [**matplotlib**](https://www.tutorialspoint.com/how-to-get-coordinates-from-the-contour-in-matplotlib) or [**skimage**](https://gis.stackexchange.com/questions/268331/how-can-i-extract-contours-from-a-raster-with-python)\n",
        "\n",
        "We demonstrate the first approach, using `gdal_contour`.\n",
        "Although we deviate from the Python-focused approach towards more direct interaction with GDAL, the benefit of `gdal_contour` is the proven algorithm, customized to spatial data, and with many relevant options.\n",
        "Both the `gdal_contour` program (along with other GDAL programs) and its **osgeo** Python wrapper, should already be installed on your system since GDAL is a dependency of **rasterio**.\n",
        "Using the command line pathway, generating 50 $m$ contours of the `dem.tif` file can be done as follows."
      ]
    },
    {
      "cell_type": "code",
      "metadata": {},
      "source": [
        "#| eval: false\n",
        "os.system('gdal_contour -a elev data/dem.tif output/dem_contour.gpkg -i 50.0')"
      ],
      "execution_count": null,
      "outputs": []
    },
    {
      "cell_type": "markdown",
      "metadata": {},
      "source": [
        "Like all GDAL programs (also see `gdaldem` example in @sec-focal-operations), `gdal_contour` works with files.\n",
        "Here, the input is the `data/dem.tif` file and the result is exported to the `output/dem_contour.gpkg` file.\n",
        "\n",
        "To illustrate the result, let's read the resulting `dem_contour.gpkg` layer back into the Python environment.\n",
        "Note that the layer contains an attribute named `'elev'` (as specified using `-a elev`) with the contour elevation values."
      ]
    },
    {
      "cell_type": "code",
      "metadata": {},
      "source": [
        "contours1 = gpd.read_file('output/dem_contour.gpkg')\n",
        "contours1"
      ],
      "execution_count": null,
      "outputs": []
    },
    {
      "cell_type": "markdown",
      "metadata": {},
      "source": [
        "@fig-raster-contours2 shows the input raster and the resulting contour layer."
      ]
    },
    {
      "cell_type": "code",
      "metadata": {},
      "source": [
        "#| label: fig-raster-contours2\n",
        "#| fig-cap: Contours of the `dem.tif` raster, calculated using the `gdal_contour` program\n",
        "fig, ax = plt.subplots()\n",
        "rasterio.plot.show(src_dem, ax=ax)\n",
        "contours1.plot(ax=ax, edgecolor='black');"
      ],
      "execution_count": null,
      "outputs": []
    },
    {
      "cell_type": "markdown",
      "metadata": {},
      "source": [
        "## Distance to nearest geometry {#sec-distance-to-nearest-geometry}\n",
        "\n",
        "Calculating a raster of distances to the nearest geometry is an example of a \"global\" raster operation (@sec-global-operations-and-distances).\n",
        "To demonstrate it, suppose that we need to calculate a raster representing the distance to the nearest coast in New Zealand.\n",
        "This example also wraps many of the concepts introduced in this chapter and in previous chapter, such as raster aggregation (@sec-raster-agg-disagg), raster conversion to points (@sec-raster-to-points), and rasterizing points (@sec-rasterizing-points).\n",
        "\n",
        "For the coastline, we will dissolve the New Zealand administrative division polygon layer and \"extract\" the boundary as a `'MultiLineString'` geometry."
      ]
    },
    {
      "cell_type": "code",
      "metadata": {},
      "source": [
        "coastline = gpd.GeoSeries(nz.unary_union, crs=nz.crs) \\\n",
        "    .to_crs(src_nz_elev.crs) \\\n",
        "    .boundary\n",
        "coastline"
      ],
      "execution_count": null,
      "outputs": []
    },
    {
      "cell_type": "markdown",
      "metadata": {},
      "source": [
        "For a \"template\" raster, we will aggregate the New Zealand DEM, in the `nz_elev.tif` file, to 5 times coarser resolution.\n",
        "The code section below follows the aggeregation example in @sec-raster-agg-disagg.\n",
        "<!-- jn: the last sentence could be rephrased... -->\n",
        "<!-- md: the following example should be relaced to more efficient code following Anita's suggestion, afterwards will rephrase the text too (edit: now done)-->"
      ]
    },
    {
      "cell_type": "code",
      "metadata": {},
      "source": [
        "factor = 0.2\n",
        "# Reading aggregated array\n",
        "r = src_nz_elev.read(1,\n",
        "    out_shape=(\n",
        "        int(src_nz_elev.height * factor),\n",
        "        int(src_nz_elev.width * factor)\n",
        "        ),\n",
        "    resampling=rasterio.enums.Resampling.average\n",
        ")\n",
        "# Updating the transform\n",
        "new_transform = src_nz_elev.transform * src_nz_elev.transform.scale(\n",
        "    (src_nz_elev.width / r.shape[1]),\n",
        "    (src_nz_elev.height / r.shape[0])\n",
        ")"
      ],
      "execution_count": null,
      "outputs": []
    },
    {
      "cell_type": "markdown",
      "metadata": {},
      "source": [
        "The resulting array `r`/`new_transform` and the lines layer `coastline` are plotted in @fig-raster-distances1.\n",
        "Note that the raster values are average elevations based on $5 \\times 5$ pixels, but this is irrelevant for the subsequent calculation; the raster is going to be used as a template, and all of its values will be replaced with distances to coastline (@fig-raster-distances2)."
      ]
    },
    {
      "cell_type": "code",
      "metadata": {},
      "source": [
        "#| label: fig-raster-distances1\n",
        "#| fig-cap: Template with cell IDs to calculate distance to nearest geometry\n",
        "\n",
        "fig, ax = plt.subplots()\n",
        "rasterio.plot.show(r, transform=new_transform, ax=ax)\n",
        "gpd.GeoSeries(coastline).plot(ax=ax, edgecolor='black');"
      ],
      "execution_count": null,
      "outputs": []
    },
    {
      "cell_type": "markdown",
      "metadata": {},
      "source": [
        "To calculate the actual distances, we must convert each pixel to a vector (point) geometry.\n",
        "For this purpose, we use the technique demonstrated in @sec-raster-to-points, but we're keeping the points as a `list` of `shapely` geometries, rather than a `GeoDataFrame`, since such a list is sufficient for the subsequent calculation."
      ]
    },
    {
      "cell_type": "code",
      "metadata": {},
      "source": [
        "height = r.shape[0]\n",
        "width = r.shape[1]\n",
        "cols, rows = np.meshgrid(np.arange(width), np.arange(height))\n",
        "x, y = rasterio.transform.xy(new_transform, rows, cols)\n",
        "x = np.array(x).flatten()\n",
        "y = np.array(y).flatten()\n",
        "z = r.flatten()\n",
        "x = x[~np.isnan(z)]\n",
        "y = y[~np.isnan(z)]\n",
        "geom = gpd.points_from_xy(x, y, crs=california.crs)\n",
        "geom = list(geom)\n",
        "geom[:5]"
      ],
      "execution_count": null,
      "outputs": []
    },
    {
      "cell_type": "markdown",
      "metadata": {},
      "source": [
        "The result `geom` is a `list` of `shapely` geometries, representing raster cell centroids (excluding `np.nan` pixels, which were filtered out).\n",
        "\n",
        "Now we can calculate the corresponding `list` of point geometries and associated distances, using the `.distance` method from **shapely**:"
      ]
    },
    {
      "cell_type": "code",
      "metadata": {},
      "source": [
        "distances = [(i, i.distance(coastline)) for i in geom]\n",
        "distances[0]"
      ],
      "execution_count": null,
      "outputs": []
    },
    {
      "cell_type": "markdown",
      "metadata": {},
      "source": [
        "Finally, we rasterize (see @sec-rasterizing-points) the distances into our raster template."
      ]
    },
    {
      "cell_type": "code",
      "metadata": {},
      "source": [
        "image = rasterio.features.rasterize(\n",
        "    distances,\n",
        "    out_shape=r.shape,\n",
        "    dtype=np.float_,\n",
        "    transform=new_transform,\n",
        "    fill=np.nan\n",
        ")\n",
        "image"
      ],
      "execution_count": null,
      "outputs": []
    },
    {
      "cell_type": "markdown",
      "metadata": {},
      "source": [
        "<!-- jn: there is a file path in the code output... can we remove it? -->\n",
        "<!-- md: interesting, I don't see it locally, but the warning appears in the online version - perhaps it's an incompatibilty between 'rasterio' and Python 3.11? -->\n",
        "\n",
        "The final result, a raster of distances to the nearest coastline, is shown in @fig-raster-distances2."
      ]
    },
    {
      "cell_type": "code",
      "metadata": {},
      "source": [
        "#| label: fig-raster-distances2\n",
        "#| fig-cap: Distance to nearest coastline in New Zealand\n",
        "fig, ax = plt.subplots()\n",
        "rasterio.plot.show(image, transform=new_transform, ax=ax)\n",
        "gpd.GeoSeries(coastline).plot(ax=ax, edgecolor='black');"
      ],
      "execution_count": null,
      "outputs": []
    },
    {
      "cell_type": "markdown",
      "metadata": {},
      "source": [
        "## Exercises"
      ]
    }
  ],
  "metadata": {
    "kernelspec": {
      "name": "python3",
      "language": "python",
      "display_name": "Python 3 (ipykernel)"
    }
  },
  "nbformat": 4,
  "nbformat_minor": 4
}